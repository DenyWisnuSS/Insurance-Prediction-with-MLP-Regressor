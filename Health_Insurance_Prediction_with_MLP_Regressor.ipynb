{
  "cells": [
    {
      "cell_type": "markdown",
      "metadata": {
        "id": "wyNVJNxTcEeO"
      },
      "source": [
        "Dataset ini biasanya digunakan untuk **memprediksi biaya asuransi berdasarkan sejumlah fitur lainnya**. Ini adalah contoh dataset yang umumnya digunakan dalam analisis data, sehingga deskripsi berikut mungkin mencakup beberapa aspek umum dari dataset ini:\n",
        "\n",
        "1. Kolom Data: Dataset ini biasanya terdiri dari beberapa kolom yang mewakili\n",
        "berbagai atribut atau fitur. Beberapa kolom umum yang biasanya ada dalam dataset asuransi mencakup:\n",
        "\n",
        "- **age**: Usia.\n",
        "- **sex**: Jenis kelamin.\n",
        "- **bmi**: Indeks Massa Tubuh (BMI).\n",
        "- **children**: Jumlah anak/anak-anak dalam tanggungan.\n",
        "- **smoker**: Status perokok.\n",
        "- **region**: Wilayah tempat tinggal atau terdaftar.\n",
        "- **charges**: Biaya asuransi yang dibayarkan.\n",
        "\n",
        "Tujuan Analisis: Tujuan umum dari analisis dataset ini adalah untuk memahami faktor-faktor apa yang mempengaruhi biaya asuransi (charges) dan apakah kita dapat memprediksi biaya asuransi berdasarkan atribut-atribut lainnya seperti usia, jenis kelamin, BMI, jumlah anak, status perokok, dan wilayah tempat tinggal.\n",
        "\n",
        "1. Tipe Data: Sebagian besar kolom dalam dataset ini termasuk data numerik seperti usia (age), BMI, jumlah anak (children), dan biaya asuransi (charges). Namun, kolom 'sex', 'smoker', dan 'region' adalah kolom kategorikal yang biasanya mengandung data dalam bentuk teks atau kategori.\n",
        "\n",
        "2. Potensi Insight: Analisis data pada dataset ini dapat menghasilkan beberapa wawasan, seperti pengaruh usia, status perokok, atau BMI terhadap biaya asuransi. Anda juga dapat melakukan regresi untuk memprediksi biaya asuransi berdasarkan atribut-atribut ini.\n",
        "\n",
        "3. Machine Learning: Dataset ini sering digunakan dalam proyek pembelajaran mesin, seperti regresi linier untuk memprediksi biaya asuransi atau klasifikasi untuk memprediksi apakah seseorang adalah perokok atau bukan.\n",
        "\n",
        "4. Visualisasi: Anda dapat menggunakan visualisasi data seperti scatter plot, box plot, histogram, dan lainnya untuk memahami hubungan antara variabel dalam dataset ini.\n",
        "\n",
        "5. Praktik Bisnis: Data kasus nyata yang sering digunakan dalam industri asuransi untuk penilaian risiko dan penetapan premi. Analisis data ini dapat membantu perusahaan asuransi dalam pengambilan keputusan yang lebih baik dan pemahaman terhadap pelanggan."
      ],
      "id": "wyNVJNxTcEeO"
    },
    {
      "cell_type": "markdown",
      "metadata": {
        "id": "nMdyKM-p810U"
      },
      "source": [
        "##Import Library##"
      ],
      "id": "nMdyKM-p810U"
    },
    {
      "cell_type": "code",
      "execution_count": null,
      "metadata": {
        "id": "12cadd53"
      },
      "outputs": [],
      "source": [
        "import numpy as np\n",
        "import pandas as pd\n",
        "import matplotlib.pyplot as plt\n",
        "import seaborn as sns"
      ],
      "id": "12cadd53"
    },
    {
      "cell_type": "markdown",
      "metadata": {
        "id": "2a202c34"
      },
      "source": [
        "##Load Dataset##"
      ],
      "id": "2a202c34"
    },
    {
      "cell_type": "code",
      "execution_count": null,
      "metadata": {
        "colab": {
          "base_uri": "https://localhost:8080/",
          "height": 423
        },
        "id": "1f82988c",
        "outputId": "e1476bff-940e-4905-a885-8095f37627b8"
      },
      "outputs": [
        {
          "output_type": "execute_result",
          "data": {
            "text/plain": [
              "      age     sex   bmi  children smoker     region  charges\n",
              "0      19  female 27.90         0    yes  southwest 16884.92\n",
              "1      18    male 33.77         1     no  southeast  1725.55\n",
              "2      28    male 33.00         3     no  southeast  4449.46\n",
              "3      33    male 22.70         0     no  northwest 21984.47\n",
              "4      32    male 28.88         0     no  northwest  3866.86\n",
              "...   ...     ...   ...       ...    ...        ...      ...\n",
              "1333   50    male 30.97         3     no  northwest 10600.55\n",
              "1334   18  female 31.92         0     no  northeast  2205.98\n",
              "1335   18  female 36.85         0     no  southeast  1629.83\n",
              "1336   21  female 25.80         0     no  southwest  2007.94\n",
              "1337   61  female 29.07         0    yes  northwest 29141.36\n",
              "\n",
              "[1338 rows x 7 columns]"
            ],
            "text/html": [
              "\n",
              "  <div id=\"df-3e9f89ba-f042-4503-a15f-5b615b7823a1\" class=\"colab-df-container\">\n",
              "    <div>\n",
              "<style scoped>\n",
              "    .dataframe tbody tr th:only-of-type {\n",
              "        vertical-align: middle;\n",
              "    }\n",
              "\n",
              "    .dataframe tbody tr th {\n",
              "        vertical-align: top;\n",
              "    }\n",
              "\n",
              "    .dataframe thead th {\n",
              "        text-align: right;\n",
              "    }\n",
              "</style>\n",
              "<table border=\"1\" class=\"dataframe\">\n",
              "  <thead>\n",
              "    <tr style=\"text-align: right;\">\n",
              "      <th></th>\n",
              "      <th>age</th>\n",
              "      <th>sex</th>\n",
              "      <th>bmi</th>\n",
              "      <th>children</th>\n",
              "      <th>smoker</th>\n",
              "      <th>region</th>\n",
              "      <th>charges</th>\n",
              "    </tr>\n",
              "  </thead>\n",
              "  <tbody>\n",
              "    <tr>\n",
              "      <th>0</th>\n",
              "      <td>19</td>\n",
              "      <td>female</td>\n",
              "      <td>27.90</td>\n",
              "      <td>0</td>\n",
              "      <td>yes</td>\n",
              "      <td>southwest</td>\n",
              "      <td>16884.92</td>\n",
              "    </tr>\n",
              "    <tr>\n",
              "      <th>1</th>\n",
              "      <td>18</td>\n",
              "      <td>male</td>\n",
              "      <td>33.77</td>\n",
              "      <td>1</td>\n",
              "      <td>no</td>\n",
              "      <td>southeast</td>\n",
              "      <td>1725.55</td>\n",
              "    </tr>\n",
              "    <tr>\n",
              "      <th>2</th>\n",
              "      <td>28</td>\n",
              "      <td>male</td>\n",
              "      <td>33.00</td>\n",
              "      <td>3</td>\n",
              "      <td>no</td>\n",
              "      <td>southeast</td>\n",
              "      <td>4449.46</td>\n",
              "    </tr>\n",
              "    <tr>\n",
              "      <th>3</th>\n",
              "      <td>33</td>\n",
              "      <td>male</td>\n",
              "      <td>22.70</td>\n",
              "      <td>0</td>\n",
              "      <td>no</td>\n",
              "      <td>northwest</td>\n",
              "      <td>21984.47</td>\n",
              "    </tr>\n",
              "    <tr>\n",
              "      <th>4</th>\n",
              "      <td>32</td>\n",
              "      <td>male</td>\n",
              "      <td>28.88</td>\n",
              "      <td>0</td>\n",
              "      <td>no</td>\n",
              "      <td>northwest</td>\n",
              "      <td>3866.86</td>\n",
              "    </tr>\n",
              "    <tr>\n",
              "      <th>...</th>\n",
              "      <td>...</td>\n",
              "      <td>...</td>\n",
              "      <td>...</td>\n",
              "      <td>...</td>\n",
              "      <td>...</td>\n",
              "      <td>...</td>\n",
              "      <td>...</td>\n",
              "    </tr>\n",
              "    <tr>\n",
              "      <th>1333</th>\n",
              "      <td>50</td>\n",
              "      <td>male</td>\n",
              "      <td>30.97</td>\n",
              "      <td>3</td>\n",
              "      <td>no</td>\n",
              "      <td>northwest</td>\n",
              "      <td>10600.55</td>\n",
              "    </tr>\n",
              "    <tr>\n",
              "      <th>1334</th>\n",
              "      <td>18</td>\n",
              "      <td>female</td>\n",
              "      <td>31.92</td>\n",
              "      <td>0</td>\n",
              "      <td>no</td>\n",
              "      <td>northeast</td>\n",
              "      <td>2205.98</td>\n",
              "    </tr>\n",
              "    <tr>\n",
              "      <th>1335</th>\n",
              "      <td>18</td>\n",
              "      <td>female</td>\n",
              "      <td>36.85</td>\n",
              "      <td>0</td>\n",
              "      <td>no</td>\n",
              "      <td>southeast</td>\n",
              "      <td>1629.83</td>\n",
              "    </tr>\n",
              "    <tr>\n",
              "      <th>1336</th>\n",
              "      <td>21</td>\n",
              "      <td>female</td>\n",
              "      <td>25.80</td>\n",
              "      <td>0</td>\n",
              "      <td>no</td>\n",
              "      <td>southwest</td>\n",
              "      <td>2007.94</td>\n",
              "    </tr>\n",
              "    <tr>\n",
              "      <th>1337</th>\n",
              "      <td>61</td>\n",
              "      <td>female</td>\n",
              "      <td>29.07</td>\n",
              "      <td>0</td>\n",
              "      <td>yes</td>\n",
              "      <td>northwest</td>\n",
              "      <td>29141.36</td>\n",
              "    </tr>\n",
              "  </tbody>\n",
              "</table>\n",
              "<p>1338 rows × 7 columns</p>\n",
              "</div>\n",
              "    <div class=\"colab-df-buttons\">\n",
              "\n",
              "  <div class=\"colab-df-container\">\n",
              "    <button class=\"colab-df-convert\" onclick=\"convertToInteractive('df-3e9f89ba-f042-4503-a15f-5b615b7823a1')\"\n",
              "            title=\"Convert this dataframe to an interactive table.\"\n",
              "            style=\"display:none;\">\n",
              "\n",
              "  <svg xmlns=\"http://www.w3.org/2000/svg\" height=\"24px\" viewBox=\"0 -960 960 960\">\n",
              "    <path d=\"M120-120v-720h720v720H120Zm60-500h600v-160H180v160Zm220 220h160v-160H400v160Zm0 220h160v-160H400v160ZM180-400h160v-160H180v160Zm440 0h160v-160H620v160ZM180-180h160v-160H180v160Zm440 0h160v-160H620v160Z\"/>\n",
              "  </svg>\n",
              "    </button>\n",
              "\n",
              "  <style>\n",
              "    .colab-df-container {\n",
              "      display:flex;\n",
              "      gap: 12px;\n",
              "    }\n",
              "\n",
              "    .colab-df-convert {\n",
              "      background-color: #E8F0FE;\n",
              "      border: none;\n",
              "      border-radius: 50%;\n",
              "      cursor: pointer;\n",
              "      display: none;\n",
              "      fill: #1967D2;\n",
              "      height: 32px;\n",
              "      padding: 0 0 0 0;\n",
              "      width: 32px;\n",
              "    }\n",
              "\n",
              "    .colab-df-convert:hover {\n",
              "      background-color: #E2EBFA;\n",
              "      box-shadow: 0px 1px 2px rgba(60, 64, 67, 0.3), 0px 1px 3px 1px rgba(60, 64, 67, 0.15);\n",
              "      fill: #174EA6;\n",
              "    }\n",
              "\n",
              "    .colab-df-buttons div {\n",
              "      margin-bottom: 4px;\n",
              "    }\n",
              "\n",
              "    [theme=dark] .colab-df-convert {\n",
              "      background-color: #3B4455;\n",
              "      fill: #D2E3FC;\n",
              "    }\n",
              "\n",
              "    [theme=dark] .colab-df-convert:hover {\n",
              "      background-color: #434B5C;\n",
              "      box-shadow: 0px 1px 3px 1px rgba(0, 0, 0, 0.15);\n",
              "      filter: drop-shadow(0px 1px 2px rgba(0, 0, 0, 0.3));\n",
              "      fill: #FFFFFF;\n",
              "    }\n",
              "  </style>\n",
              "\n",
              "    <script>\n",
              "      const buttonEl =\n",
              "        document.querySelector('#df-3e9f89ba-f042-4503-a15f-5b615b7823a1 button.colab-df-convert');\n",
              "      buttonEl.style.display =\n",
              "        google.colab.kernel.accessAllowed ? 'block' : 'none';\n",
              "\n",
              "      async function convertToInteractive(key) {\n",
              "        const element = document.querySelector('#df-3e9f89ba-f042-4503-a15f-5b615b7823a1');\n",
              "        const dataTable =\n",
              "          await google.colab.kernel.invokeFunction('convertToInteractive',\n",
              "                                                    [key], {});\n",
              "        if (!dataTable) return;\n",
              "\n",
              "        const docLinkHtml = 'Like what you see? Visit the ' +\n",
              "          '<a target=\"_blank\" href=https://colab.research.google.com/notebooks/data_table.ipynb>data table notebook</a>'\n",
              "          + ' to learn more about interactive tables.';\n",
              "        element.innerHTML = '';\n",
              "        dataTable['output_type'] = 'display_data';\n",
              "        await google.colab.output.renderOutput(dataTable, element);\n",
              "        const docLink = document.createElement('div');\n",
              "        docLink.innerHTML = docLinkHtml;\n",
              "        element.appendChild(docLink);\n",
              "      }\n",
              "    </script>\n",
              "  </div>\n",
              "\n",
              "\n",
              "<div id=\"df-d80c7aed-cc83-41c3-93ca-028b3f8722f6\">\n",
              "  <button class=\"colab-df-quickchart\" onclick=\"quickchart('df-d80c7aed-cc83-41c3-93ca-028b3f8722f6')\"\n",
              "            title=\"Suggest charts\"\n",
              "            style=\"display:none;\">\n",
              "\n",
              "<svg xmlns=\"http://www.w3.org/2000/svg\" height=\"24px\"viewBox=\"0 0 24 24\"\n",
              "     width=\"24px\">\n",
              "    <g>\n",
              "        <path d=\"M19 3H5c-1.1 0-2 .9-2 2v14c0 1.1.9 2 2 2h14c1.1 0 2-.9 2-2V5c0-1.1-.9-2-2-2zM9 17H7v-7h2v7zm4 0h-2V7h2v10zm4 0h-2v-4h2v4z\"/>\n",
              "    </g>\n",
              "</svg>\n",
              "  </button>\n",
              "\n",
              "<style>\n",
              "  .colab-df-quickchart {\n",
              "      --bg-color: #E8F0FE;\n",
              "      --fill-color: #1967D2;\n",
              "      --hover-bg-color: #E2EBFA;\n",
              "      --hover-fill-color: #174EA6;\n",
              "      --disabled-fill-color: #AAA;\n",
              "      --disabled-bg-color: #DDD;\n",
              "  }\n",
              "\n",
              "  [theme=dark] .colab-df-quickchart {\n",
              "      --bg-color: #3B4455;\n",
              "      --fill-color: #D2E3FC;\n",
              "      --hover-bg-color: #434B5C;\n",
              "      --hover-fill-color: #FFFFFF;\n",
              "      --disabled-bg-color: #3B4455;\n",
              "      --disabled-fill-color: #666;\n",
              "  }\n",
              "\n",
              "  .colab-df-quickchart {\n",
              "    background-color: var(--bg-color);\n",
              "    border: none;\n",
              "    border-radius: 50%;\n",
              "    cursor: pointer;\n",
              "    display: none;\n",
              "    fill: var(--fill-color);\n",
              "    height: 32px;\n",
              "    padding: 0;\n",
              "    width: 32px;\n",
              "  }\n",
              "\n",
              "  .colab-df-quickchart:hover {\n",
              "    background-color: var(--hover-bg-color);\n",
              "    box-shadow: 0 1px 2px rgba(60, 64, 67, 0.3), 0 1px 3px 1px rgba(60, 64, 67, 0.15);\n",
              "    fill: var(--button-hover-fill-color);\n",
              "  }\n",
              "\n",
              "  .colab-df-quickchart-complete:disabled,\n",
              "  .colab-df-quickchart-complete:disabled:hover {\n",
              "    background-color: var(--disabled-bg-color);\n",
              "    fill: var(--disabled-fill-color);\n",
              "    box-shadow: none;\n",
              "  }\n",
              "\n",
              "  .colab-df-spinner {\n",
              "    border: 2px solid var(--fill-color);\n",
              "    border-color: transparent;\n",
              "    border-bottom-color: var(--fill-color);\n",
              "    animation:\n",
              "      spin 1s steps(1) infinite;\n",
              "  }\n",
              "\n",
              "  @keyframes spin {\n",
              "    0% {\n",
              "      border-color: transparent;\n",
              "      border-bottom-color: var(--fill-color);\n",
              "      border-left-color: var(--fill-color);\n",
              "    }\n",
              "    20% {\n",
              "      border-color: transparent;\n",
              "      border-left-color: var(--fill-color);\n",
              "      border-top-color: var(--fill-color);\n",
              "    }\n",
              "    30% {\n",
              "      border-color: transparent;\n",
              "      border-left-color: var(--fill-color);\n",
              "      border-top-color: var(--fill-color);\n",
              "      border-right-color: var(--fill-color);\n",
              "    }\n",
              "    40% {\n",
              "      border-color: transparent;\n",
              "      border-right-color: var(--fill-color);\n",
              "      border-top-color: var(--fill-color);\n",
              "    }\n",
              "    60% {\n",
              "      border-color: transparent;\n",
              "      border-right-color: var(--fill-color);\n",
              "    }\n",
              "    80% {\n",
              "      border-color: transparent;\n",
              "      border-right-color: var(--fill-color);\n",
              "      border-bottom-color: var(--fill-color);\n",
              "    }\n",
              "    90% {\n",
              "      border-color: transparent;\n",
              "      border-bottom-color: var(--fill-color);\n",
              "    }\n",
              "  }\n",
              "</style>\n",
              "\n",
              "  <script>\n",
              "    async function quickchart(key) {\n",
              "      const quickchartButtonEl =\n",
              "        document.querySelector('#' + key + ' button');\n",
              "      quickchartButtonEl.disabled = true;  // To prevent multiple clicks.\n",
              "      quickchartButtonEl.classList.add('colab-df-spinner');\n",
              "      try {\n",
              "        const charts = await google.colab.kernel.invokeFunction(\n",
              "            'suggestCharts', [key], {});\n",
              "      } catch (error) {\n",
              "        console.error('Error during call to suggestCharts:', error);\n",
              "      }\n",
              "      quickchartButtonEl.classList.remove('colab-df-spinner');\n",
              "      quickchartButtonEl.classList.add('colab-df-quickchart-complete');\n",
              "    }\n",
              "    (() => {\n",
              "      let quickchartButtonEl =\n",
              "        document.querySelector('#df-d80c7aed-cc83-41c3-93ca-028b3f8722f6 button');\n",
              "      quickchartButtonEl.style.display =\n",
              "        google.colab.kernel.accessAllowed ? 'block' : 'none';\n",
              "    })();\n",
              "  </script>\n",
              "</div>\n",
              "    </div>\n",
              "  </div>\n"
            ]
          },
          "metadata": {},
          "execution_count": 309
        }
      ],
      "source": [
        "# Load data\n",
        "data = pd.read_csv('insurance.csv')\n",
        "data"
      ],
      "id": "1f82988c"
    },
    {
      "cell_type": "markdown",
      "metadata": {
        "id": "wVyRqQIJ9GAj"
      },
      "source": [
        "# Exploratory Data Analysis"
      ],
      "id": "wVyRqQIJ9GAj"
    },
    {
      "cell_type": "code",
      "execution_count": null,
      "metadata": {
        "colab": {
          "base_uri": "https://localhost:8080/"
        },
        "id": "4cb2675b",
        "outputId": "ae1d5ba1-906a-45a4-d609-d5ed90818278"
      },
      "outputs": [
        {
          "output_type": "execute_result",
          "data": {
            "text/plain": [
              "age           int64\n",
              "sex          object\n",
              "bmi         float64\n",
              "children      int64\n",
              "smoker       object\n",
              "region       object\n",
              "charges     float64\n",
              "dtype: object"
            ]
          },
          "metadata": {},
          "execution_count": 310
        }
      ],
      "source": [
        "# Cek tipe data\n",
        "data.dtypes"
      ],
      "id": "4cb2675b"
    },
    {
      "cell_type": "code",
      "execution_count": null,
      "metadata": {
        "colab": {
          "base_uri": "https://localhost:8080/"
        },
        "id": "a3d79b46",
        "outputId": "c18f5881-e64c-4d4e-fb11-f3465e18ac65"
      },
      "outputs": [
        {
          "output_type": "execute_result",
          "data": {
            "text/plain": [
              "(1338, 7)"
            ]
          },
          "metadata": {},
          "execution_count": 311
        }
      ],
      "source": [
        "# Cek dimensi data\n",
        "data.shape"
      ],
      "id": "a3d79b46"
    },
    {
      "cell_type": "markdown",
      "source": [
        "Dataset kita mempunyai 7 kolom dan 1338 baris"
      ],
      "metadata": {
        "id": "iZXGOlfZoG6c"
      },
      "id": "iZXGOlfZoG6c"
    },
    {
      "cell_type": "code",
      "execution_count": null,
      "metadata": {
        "colab": {
          "base_uri": "https://localhost:8080/",
          "height": 300
        },
        "id": "9c8e499f",
        "outputId": "c51b2582-c125-4245-de20-b1255ce460fb"
      },
      "outputs": [
        {
          "output_type": "execute_result",
          "data": {
            "text/plain": [
              "          age     bmi  children  charges\n",
              "count 1338.00 1338.00   1338.00  1338.00\n",
              "mean    39.21   30.66      1.09 13270.42\n",
              "std     14.05    6.10      1.21 12110.01\n",
              "min     18.00   15.96      0.00  1121.87\n",
              "25%     27.00   26.30      0.00  4740.29\n",
              "50%     39.00   30.40      1.00  9382.03\n",
              "75%     51.00   34.69      2.00 16639.91\n",
              "max     64.00   53.13      5.00 63770.43"
            ],
            "text/html": [
              "\n",
              "  <div id=\"df-ab2a97cf-39f1-4dbd-9af6-02ea6fd104cd\" class=\"colab-df-container\">\n",
              "    <div>\n",
              "<style scoped>\n",
              "    .dataframe tbody tr th:only-of-type {\n",
              "        vertical-align: middle;\n",
              "    }\n",
              "\n",
              "    .dataframe tbody tr th {\n",
              "        vertical-align: top;\n",
              "    }\n",
              "\n",
              "    .dataframe thead th {\n",
              "        text-align: right;\n",
              "    }\n",
              "</style>\n",
              "<table border=\"1\" class=\"dataframe\">\n",
              "  <thead>\n",
              "    <tr style=\"text-align: right;\">\n",
              "      <th></th>\n",
              "      <th>age</th>\n",
              "      <th>bmi</th>\n",
              "      <th>children</th>\n",
              "      <th>charges</th>\n",
              "    </tr>\n",
              "  </thead>\n",
              "  <tbody>\n",
              "    <tr>\n",
              "      <th>count</th>\n",
              "      <td>1338.00</td>\n",
              "      <td>1338.00</td>\n",
              "      <td>1338.00</td>\n",
              "      <td>1338.00</td>\n",
              "    </tr>\n",
              "    <tr>\n",
              "      <th>mean</th>\n",
              "      <td>39.21</td>\n",
              "      <td>30.66</td>\n",
              "      <td>1.09</td>\n",
              "      <td>13270.42</td>\n",
              "    </tr>\n",
              "    <tr>\n",
              "      <th>std</th>\n",
              "      <td>14.05</td>\n",
              "      <td>6.10</td>\n",
              "      <td>1.21</td>\n",
              "      <td>12110.01</td>\n",
              "    </tr>\n",
              "    <tr>\n",
              "      <th>min</th>\n",
              "      <td>18.00</td>\n",
              "      <td>15.96</td>\n",
              "      <td>0.00</td>\n",
              "      <td>1121.87</td>\n",
              "    </tr>\n",
              "    <tr>\n",
              "      <th>25%</th>\n",
              "      <td>27.00</td>\n",
              "      <td>26.30</td>\n",
              "      <td>0.00</td>\n",
              "      <td>4740.29</td>\n",
              "    </tr>\n",
              "    <tr>\n",
              "      <th>50%</th>\n",
              "      <td>39.00</td>\n",
              "      <td>30.40</td>\n",
              "      <td>1.00</td>\n",
              "      <td>9382.03</td>\n",
              "    </tr>\n",
              "    <tr>\n",
              "      <th>75%</th>\n",
              "      <td>51.00</td>\n",
              "      <td>34.69</td>\n",
              "      <td>2.00</td>\n",
              "      <td>16639.91</td>\n",
              "    </tr>\n",
              "    <tr>\n",
              "      <th>max</th>\n",
              "      <td>64.00</td>\n",
              "      <td>53.13</td>\n",
              "      <td>5.00</td>\n",
              "      <td>63770.43</td>\n",
              "    </tr>\n",
              "  </tbody>\n",
              "</table>\n",
              "</div>\n",
              "    <div class=\"colab-df-buttons\">\n",
              "\n",
              "  <div class=\"colab-df-container\">\n",
              "    <button class=\"colab-df-convert\" onclick=\"convertToInteractive('df-ab2a97cf-39f1-4dbd-9af6-02ea6fd104cd')\"\n",
              "            title=\"Convert this dataframe to an interactive table.\"\n",
              "            style=\"display:none;\">\n",
              "\n",
              "  <svg xmlns=\"http://www.w3.org/2000/svg\" height=\"24px\" viewBox=\"0 -960 960 960\">\n",
              "    <path d=\"M120-120v-720h720v720H120Zm60-500h600v-160H180v160Zm220 220h160v-160H400v160Zm0 220h160v-160H400v160ZM180-400h160v-160H180v160Zm440 0h160v-160H620v160ZM180-180h160v-160H180v160Zm440 0h160v-160H620v160Z\"/>\n",
              "  </svg>\n",
              "    </button>\n",
              "\n",
              "  <style>\n",
              "    .colab-df-container {\n",
              "      display:flex;\n",
              "      gap: 12px;\n",
              "    }\n",
              "\n",
              "    .colab-df-convert {\n",
              "      background-color: #E8F0FE;\n",
              "      border: none;\n",
              "      border-radius: 50%;\n",
              "      cursor: pointer;\n",
              "      display: none;\n",
              "      fill: #1967D2;\n",
              "      height: 32px;\n",
              "      padding: 0 0 0 0;\n",
              "      width: 32px;\n",
              "    }\n",
              "\n",
              "    .colab-df-convert:hover {\n",
              "      background-color: #E2EBFA;\n",
              "      box-shadow: 0px 1px 2px rgba(60, 64, 67, 0.3), 0px 1px 3px 1px rgba(60, 64, 67, 0.15);\n",
              "      fill: #174EA6;\n",
              "    }\n",
              "\n",
              "    .colab-df-buttons div {\n",
              "      margin-bottom: 4px;\n",
              "    }\n",
              "\n",
              "    [theme=dark] .colab-df-convert {\n",
              "      background-color: #3B4455;\n",
              "      fill: #D2E3FC;\n",
              "    }\n",
              "\n",
              "    [theme=dark] .colab-df-convert:hover {\n",
              "      background-color: #434B5C;\n",
              "      box-shadow: 0px 1px 3px 1px rgba(0, 0, 0, 0.15);\n",
              "      filter: drop-shadow(0px 1px 2px rgba(0, 0, 0, 0.3));\n",
              "      fill: #FFFFFF;\n",
              "    }\n",
              "  </style>\n",
              "\n",
              "    <script>\n",
              "      const buttonEl =\n",
              "        document.querySelector('#df-ab2a97cf-39f1-4dbd-9af6-02ea6fd104cd button.colab-df-convert');\n",
              "      buttonEl.style.display =\n",
              "        google.colab.kernel.accessAllowed ? 'block' : 'none';\n",
              "\n",
              "      async function convertToInteractive(key) {\n",
              "        const element = document.querySelector('#df-ab2a97cf-39f1-4dbd-9af6-02ea6fd104cd');\n",
              "        const dataTable =\n",
              "          await google.colab.kernel.invokeFunction('convertToInteractive',\n",
              "                                                    [key], {});\n",
              "        if (!dataTable) return;\n",
              "\n",
              "        const docLinkHtml = 'Like what you see? Visit the ' +\n",
              "          '<a target=\"_blank\" href=https://colab.research.google.com/notebooks/data_table.ipynb>data table notebook</a>'\n",
              "          + ' to learn more about interactive tables.';\n",
              "        element.innerHTML = '';\n",
              "        dataTable['output_type'] = 'display_data';\n",
              "        await google.colab.output.renderOutput(dataTable, element);\n",
              "        const docLink = document.createElement('div');\n",
              "        docLink.innerHTML = docLinkHtml;\n",
              "        element.appendChild(docLink);\n",
              "      }\n",
              "    </script>\n",
              "  </div>\n",
              "\n",
              "\n",
              "<div id=\"df-a9f6ced3-895b-45b1-989e-6effe304a162\">\n",
              "  <button class=\"colab-df-quickchart\" onclick=\"quickchart('df-a9f6ced3-895b-45b1-989e-6effe304a162')\"\n",
              "            title=\"Suggest charts\"\n",
              "            style=\"display:none;\">\n",
              "\n",
              "<svg xmlns=\"http://www.w3.org/2000/svg\" height=\"24px\"viewBox=\"0 0 24 24\"\n",
              "     width=\"24px\">\n",
              "    <g>\n",
              "        <path d=\"M19 3H5c-1.1 0-2 .9-2 2v14c0 1.1.9 2 2 2h14c1.1 0 2-.9 2-2V5c0-1.1-.9-2-2-2zM9 17H7v-7h2v7zm4 0h-2V7h2v10zm4 0h-2v-4h2v4z\"/>\n",
              "    </g>\n",
              "</svg>\n",
              "  </button>\n",
              "\n",
              "<style>\n",
              "  .colab-df-quickchart {\n",
              "      --bg-color: #E8F0FE;\n",
              "      --fill-color: #1967D2;\n",
              "      --hover-bg-color: #E2EBFA;\n",
              "      --hover-fill-color: #174EA6;\n",
              "      --disabled-fill-color: #AAA;\n",
              "      --disabled-bg-color: #DDD;\n",
              "  }\n",
              "\n",
              "  [theme=dark] .colab-df-quickchart {\n",
              "      --bg-color: #3B4455;\n",
              "      --fill-color: #D2E3FC;\n",
              "      --hover-bg-color: #434B5C;\n",
              "      --hover-fill-color: #FFFFFF;\n",
              "      --disabled-bg-color: #3B4455;\n",
              "      --disabled-fill-color: #666;\n",
              "  }\n",
              "\n",
              "  .colab-df-quickchart {\n",
              "    background-color: var(--bg-color);\n",
              "    border: none;\n",
              "    border-radius: 50%;\n",
              "    cursor: pointer;\n",
              "    display: none;\n",
              "    fill: var(--fill-color);\n",
              "    height: 32px;\n",
              "    padding: 0;\n",
              "    width: 32px;\n",
              "  }\n",
              "\n",
              "  .colab-df-quickchart:hover {\n",
              "    background-color: var(--hover-bg-color);\n",
              "    box-shadow: 0 1px 2px rgba(60, 64, 67, 0.3), 0 1px 3px 1px rgba(60, 64, 67, 0.15);\n",
              "    fill: var(--button-hover-fill-color);\n",
              "  }\n",
              "\n",
              "  .colab-df-quickchart-complete:disabled,\n",
              "  .colab-df-quickchart-complete:disabled:hover {\n",
              "    background-color: var(--disabled-bg-color);\n",
              "    fill: var(--disabled-fill-color);\n",
              "    box-shadow: none;\n",
              "  }\n",
              "\n",
              "  .colab-df-spinner {\n",
              "    border: 2px solid var(--fill-color);\n",
              "    border-color: transparent;\n",
              "    border-bottom-color: var(--fill-color);\n",
              "    animation:\n",
              "      spin 1s steps(1) infinite;\n",
              "  }\n",
              "\n",
              "  @keyframes spin {\n",
              "    0% {\n",
              "      border-color: transparent;\n",
              "      border-bottom-color: var(--fill-color);\n",
              "      border-left-color: var(--fill-color);\n",
              "    }\n",
              "    20% {\n",
              "      border-color: transparent;\n",
              "      border-left-color: var(--fill-color);\n",
              "      border-top-color: var(--fill-color);\n",
              "    }\n",
              "    30% {\n",
              "      border-color: transparent;\n",
              "      border-left-color: var(--fill-color);\n",
              "      border-top-color: var(--fill-color);\n",
              "      border-right-color: var(--fill-color);\n",
              "    }\n",
              "    40% {\n",
              "      border-color: transparent;\n",
              "      border-right-color: var(--fill-color);\n",
              "      border-top-color: var(--fill-color);\n",
              "    }\n",
              "    60% {\n",
              "      border-color: transparent;\n",
              "      border-right-color: var(--fill-color);\n",
              "    }\n",
              "    80% {\n",
              "      border-color: transparent;\n",
              "      border-right-color: var(--fill-color);\n",
              "      border-bottom-color: var(--fill-color);\n",
              "    }\n",
              "    90% {\n",
              "      border-color: transparent;\n",
              "      border-bottom-color: var(--fill-color);\n",
              "    }\n",
              "  }\n",
              "</style>\n",
              "\n",
              "  <script>\n",
              "    async function quickchart(key) {\n",
              "      const quickchartButtonEl =\n",
              "        document.querySelector('#' + key + ' button');\n",
              "      quickchartButtonEl.disabled = true;  // To prevent multiple clicks.\n",
              "      quickchartButtonEl.classList.add('colab-df-spinner');\n",
              "      try {\n",
              "        const charts = await google.colab.kernel.invokeFunction(\n",
              "            'suggestCharts', [key], {});\n",
              "      } catch (error) {\n",
              "        console.error('Error during call to suggestCharts:', error);\n",
              "      }\n",
              "      quickchartButtonEl.classList.remove('colab-df-spinner');\n",
              "      quickchartButtonEl.classList.add('colab-df-quickchart-complete');\n",
              "    }\n",
              "    (() => {\n",
              "      let quickchartButtonEl =\n",
              "        document.querySelector('#df-a9f6ced3-895b-45b1-989e-6effe304a162 button');\n",
              "      quickchartButtonEl.style.display =\n",
              "        google.colab.kernel.accessAllowed ? 'block' : 'none';\n",
              "    })();\n",
              "  </script>\n",
              "</div>\n",
              "    </div>\n",
              "  </div>\n"
            ]
          },
          "metadata": {},
          "execution_count": 312
        }
      ],
      "source": [
        "# Cek statistik deskriptif data\n",
        "data.describe()"
      ],
      "id": "9c8e499f"
    },
    {
      "cell_type": "markdown",
      "metadata": {
        "id": "daa59561"
      },
      "source": [
        "##Cek Missing Value dan Data Duplikat##"
      ],
      "id": "daa59561"
    },
    {
      "cell_type": "code",
      "execution_count": null,
      "metadata": {
        "colab": {
          "base_uri": "https://localhost:8080/"
        },
        "id": "ce69d463",
        "outputId": "f9b2c8b7-5c0a-4ba8-89b8-91930faf0f1c"
      },
      "outputs": [
        {
          "output_type": "execute_result",
          "data": {
            "text/plain": [
              "age         0\n",
              "sex         0\n",
              "bmi         0\n",
              "children    0\n",
              "smoker      0\n",
              "region      0\n",
              "charges     0\n",
              "dtype: int64"
            ]
          },
          "metadata": {},
          "execution_count": 313
        }
      ],
      "source": [
        "# cek missing value\n",
        "data.isnull().sum()"
      ],
      "id": "ce69d463"
    },
    {
      "cell_type": "markdown",
      "source": [
        "Tidak ada nilai kosong dalam dataset"
      ],
      "metadata": {
        "id": "5NG6rz27ojki"
      },
      "id": "5NG6rz27ojki"
    },
    {
      "cell_type": "code",
      "execution_count": null,
      "metadata": {
        "colab": {
          "base_uri": "https://localhost:8080/"
        },
        "id": "cf9c4411",
        "outputId": "c285c847-0ada-4eda-d3d6-9be42ed1b165"
      },
      "outputs": [
        {
          "output_type": "execute_result",
          "data": {
            "text/plain": [
              "1"
            ]
          },
          "metadata": {},
          "execution_count": 314
        }
      ],
      "source": [
        "# Cek data duplikat\n",
        "data.duplicated().sum()"
      ],
      "id": "cf9c4411"
    },
    {
      "cell_type": "markdown",
      "source": [
        "Terdapat 1 data duplikat dalam dataset kita, maka kita akan menghapusnya"
      ],
      "metadata": {
        "id": "y9qWAEgCodcS"
      },
      "id": "y9qWAEgCodcS"
    },
    {
      "cell_type": "code",
      "execution_count": null,
      "metadata": {
        "id": "JEqvR1QWIJuD"
      },
      "outputs": [],
      "source": [
        "# drop data duplikat\n",
        "data.drop_duplicates(inplace=True)"
      ],
      "id": "JEqvR1QWIJuD"
    },
    {
      "cell_type": "code",
      "execution_count": null,
      "metadata": {
        "colab": {
          "base_uri": "https://localhost:8080/"
        },
        "id": "cb-WVV9IlkiX",
        "outputId": "9ba50369-fb8e-42e9-db59-8632156ed0b9"
      },
      "outputs": [
        {
          "output_type": "stream",
          "name": "stdout",
          "text": [
            "['southwest' 'southeast' 'northwest' 'northeast']\n"
          ]
        }
      ],
      "source": [
        "# Cek data unik di kolom region\n",
        "region = data['region'].unique()\n",
        "print(region)"
      ],
      "id": "cb-WVV9IlkiX"
    },
    {
      "cell_type": "code",
      "execution_count": null,
      "metadata": {
        "colab": {
          "base_uri": "https://localhost:8080/",
          "height": 573
        },
        "id": "0jG7OceDThMm",
        "outputId": "437e61b6-9d51-44ff-f839-7c4116fb7fe8"
      },
      "outputs": [
        {
          "output_type": "display_data",
          "data": {
            "text/plain": [
              "<Figure size 800x600 with 1 Axes>"
            ],
            "image/png": "[encoded data removed]"
          },
          "metadata": {}
        }
      ],
      "source": [
        "# Membuat boxplot\n",
        "plt.figure(figsize=(8, 6))\n",
        "\n",
        "# Menggunakan boxplot untuk memvisualisasikan distribusi charges berdasarkan gender\n",
        "boxplot = plt.boxplot([data[data['sex'] == 'male']['charges'], data[data['sex'] == 'female']['charges']],\n",
        "            labels=['Male', 'Female'], patch_artist=True)\n",
        "\n",
        "# Menentukan warna kotak dan whisker\n",
        "colors = ['red', 'pink']\n",
        "\n",
        "for patch, color in zip(boxplot['boxes'], colors):\n",
        "    patch.set_facecolor(color)\n",
        "\n",
        "# Menentukan warna median line\n",
        "for median in boxplot['medians']:\n",
        "    median.set(color='black')\n",
        "\n",
        "plt.title('Box Plot Charges berdasarkan Gender')\n",
        "plt.xlabel('Sex')\n",
        "plt.ylabel('Charges')\n",
        "plt.show()"
      ],
      "id": "0jG7OceDThMm"
    },
    {
      "cell_type": "code",
      "execution_count": null,
      "metadata": {
        "colab": {
          "base_uri": "https://localhost:8080/",
          "height": 496
        },
        "id": "QFKM5odxU1aY",
        "outputId": "46ce9d4b-a44f-4cd0-9fc3-d4cb8c85e198"
      },
      "outputs": [
        {
          "output_type": "display_data",
          "data": {
            "text/plain": [
              "<Figure size 1100x500 with 1 Axes>"
            ],
            "image/png": "[encoded data removed]"
          },
          "metadata": {}
        }
      ],
      "source": [
        "# Visualisasi korelasi smoker dengan charges menggunakan scatter plot\n",
        "plt.figure(1, figsize=(11, 5))\n",
        "plt.title('Scatter plot smoker dengan Charges', fontsize=12)\n",
        "plt.xlabel('charges')\n",
        "plt.ylabel('smoker')\n",
        "plt.scatter(x=data['charges'], y=data['smoker'])\n",
        "plt.show()"
      ],
      "id": "QFKM5odxU1aY"
    },
    {
      "cell_type": "code",
      "source": [
        "# Visualisasi korelasi umur dengan charges menggunakan scatter plot\n",
        "plt.figure(1, figsize=(11, 5))\n",
        "plt.title('Scatter plot Age dengan Charges', fontsize=15)\n",
        "plt.xlabel('age')\n",
        "plt.ylabel('charges')\n",
        "plt.scatter(x=data['age'], y=data['charges'])\n",
        "plt.show()"
      ],
      "metadata": {
        "colab": {
          "base_uri": "https://localhost:8080/",
          "height": 498
        },
        "id": "8DXZ1RBzIjXT",
        "outputId": "940d1790-9ea8-48a1-9191-fcad70f37a68"
      },
      "id": "8DXZ1RBzIjXT",
      "execution_count": null,
      "outputs": [
        {
          "output_type": "display_data",
          "data": {
            "text/plain": [
              "<Figure size 1100x500 with 1 Axes>"
            ],
            "image/png": "[encoded data removed]"
          },
          "metadata": {}
        }
      ]
    },
    {
      "cell_type": "markdown",
      "source": [
        "Dapat disimpulkan bahwa semakin tinggi umur ( age ) maka charges semakin tinggi juga"
      ],
      "metadata": {
        "id": "LLv1h6mro3mJ"
      },
      "id": "LLv1h6mro3mJ"
    },
    {
      "cell_type": "code",
      "source": [
        "# Mencari Persentase status smoker di kolom sex\n",
        "sns.set(style=\"white\")\n",
        "\n",
        "# Menghitung kemunculan smoker dan no smoker berdasarkan jenis kelamin\n",
        "smoker_counts = data.groupby(['sex', 'smoker']).size().unstack()\n",
        "\n",
        "# Kalkulasi Persentase\n",
        "smoker_percentages = smoker_counts.div(smoker_counts.sum(axis=1), axis=0)\n",
        "\n",
        "# Plot bar chart\n",
        "ax = smoker_percentages.plot(kind='bar', figsize=(7, 5), width=0.6)\n",
        "\n",
        "# Tambahkan label dan Title\n",
        "plt.title(\"Persentase dari smoker dan no smoker di variabel sex\")\n",
        "plt.ylabel(\"Persentase Smoker\")\n",
        "plt.xlabel(\"Sex\")\n",
        "\n",
        "# Menambahkan label persentase pada setiap bar\n",
        "for p in ax.patches:\n",
        "    width, height = p.get_width(), p.get_height()\n",
        "    x, y = p.get_xy()\n",
        "    ax.annotate(f'{height:.2%}', (x + width / 2, y + height / 2), ha='center')\n",
        "\n",
        "ax.set_xticklabels(ax.get_xticklabels(), rotation=0)\n",
        "plt.legend(title='Smoker', bbox_to_anchor=(1, 1))\n",
        "plt.show()"
      ],
      "metadata": {
        "colab": {
          "base_uri": "https://localhost:8080/",
          "height": 496
        },
        "id": "HU_0bv6LTW2s",
        "outputId": "6403cb0d-250a-431c-f027-186f29fe0709"
      },
      "id": "HU_0bv6LTW2s",
      "execution_count": null,
      "outputs": [
        {
          "output_type": "display_data",
          "data": {
            "text/plain": [
              "<Figure size 700x500 with 1 Axes>"
            ],
            "image/png": "[encoded data removed]"
          },
          "metadata": {}
        }
      ]
    },
    {
      "cell_type": "code",
      "execution_count": null,
      "metadata": {
        "colab": {
          "base_uri": "https://localhost:8080/",
          "height": 428
        },
        "id": "CTvFgAO3lmYJ",
        "outputId": "e8ee09c1-4d16-46f8-e952-51e2200a72b9"
      },
      "outputs": [
        {
          "output_type": "display_data",
          "data": {
            "text/plain": [
              "<Figure size 640x480 with 1 Axes>"
            ],
            "image/png": "[encoded data removed]"
          },
          "metadata": {}
        }
      ],
      "source": [
        "# Distribusi dari kolom Sex\n",
        "counts = data['sex'].value_counts()\n",
        "labels = counts.index\n",
        "values = counts.values\n",
        "colors = ['lightblue', 'pink']\n",
        "plt.pie(values, labels=labels, colors=colors, autopct='%1.1f%%', startangle=90)\n",
        "plt.title('Distribution Sex')\n",
        "plt.show()"
      ],
      "id": "CTvFgAO3lmYJ"
    },
    {
      "cell_type": "code",
      "execution_count": null,
      "metadata": {
        "colab": {
          "base_uri": "https://localhost:8080/",
          "height": 475
        },
        "id": "tvMbXYCmSbbI",
        "outputId": "74602260-f42a-4071-918e-28fefdd5d8e7"
      },
      "outputs": [
        {
          "output_type": "execute_result",
          "data": {
            "text/plain": [
              "<Axes: xlabel='bmi'>"
            ]
          },
          "metadata": {},
          "execution_count": 322
        },
        {
          "output_type": "display_data",
          "data": {
            "text/plain": [
              "<Figure size 640x480 with 1 Axes>"
            ],
            "image/png": "[encoded data removed]"
          },
          "metadata": {}
        }
      ],
      "source": [
        "# Box Plot BMI\n",
        "sns.boxplot(x = data['bmi'])"
      ],
      "id": "tvMbXYCmSbbI"
    },
    {
      "cell_type": "code",
      "execution_count": null,
      "metadata": {
        "colab": {
          "base_uri": "https://localhost:8080/",
          "height": 475
        },
        "id": "uZ4vk6nOSpnu",
        "outputId": "ad9782f2-3737-41d5-c817-57fe3ca3d17e"
      },
      "outputs": [
        {
          "output_type": "execute_result",
          "data": {
            "text/plain": [
              "<Axes: xlabel='children'>"
            ]
          },
          "metadata": {},
          "execution_count": 323
        },
        {
          "output_type": "display_data",
          "data": {
            "text/plain": [
              "<Figure size 640x480 with 1 Axes>"
            ],
            "image/png": "[encoded data removed]"
          },
          "metadata": {}
        }
      ],
      "source": [
        "# Box Plot Children\n",
        "sns.boxplot(x = data['children'])"
      ],
      "id": "uZ4vk6nOSpnu"
    },
    {
      "cell_type": "code",
      "execution_count": null,
      "metadata": {
        "colab": {
          "base_uri": "https://localhost:8080/",
          "height": 480
        },
        "id": "7aHW8piQoL3k",
        "outputId": "7a6726f7-0331-4fc4-8761-120a04c729c9"
      },
      "outputs": [
        {
          "output_type": "display_data",
          "data": {
            "text/plain": [
              "<Figure size 640x480 with 1 Axes>"
            ],
            "image/png": "[encoded data removed]"
          },
          "metadata": {}
        }
      ],
      "source": [
        "# Distribusi Kolom Smoker\n",
        "counts = data['smoker'].value_counts()\n",
        "labels = counts.index\n",
        "values = counts.values\n",
        "plt.bar(labels, values)\n",
        "plt.title('Smoker Distribution')\n",
        "plt.xlabel('Smoker')\n",
        "plt.ylabel('Count')\n",
        "plt.show()"
      ],
      "id": "7aHW8piQoL3k"
    },
    {
      "cell_type": "markdown",
      "metadata": {
        "id": "zkeBzamX980n"
      },
      "source": [
        "Terdapat data Imbalance di kolom smokers"
      ],
      "id": "zkeBzamX980n"
    },
    {
      "cell_type": "code",
      "execution_count": null,
      "metadata": {
        "colab": {
          "base_uri": "https://localhost:8080/",
          "height": 480
        },
        "id": "OAbrka8Fp0ip",
        "outputId": "6db49c72-6ab8-4833-d698-10169670705a"
      },
      "outputs": [
        {
          "output_type": "display_data",
          "data": {
            "text/plain": [
              "<Figure size 640x480 with 1 Axes>"
            ],
            "image/png": "[encoded data removed]"
          },
          "metadata": {}
        }
      ],
      "source": [
        "# distribusi kolom Region\n",
        "counts = data['region'].value_counts()\n",
        "labels = counts.index\n",
        "values = counts.values\n",
        "plt.bar(labels, values)\n",
        "plt.title('Region Distribution')\n",
        "plt.xlabel('Region')\n",
        "plt.ylabel('Count')\n",
        "plt.show()"
      ],
      "id": "OAbrka8Fp0ip"
    },
    {
      "cell_type": "code",
      "execution_count": null,
      "metadata": {
        "colab": {
          "base_uri": "https://localhost:8080/",
          "height": 475
        },
        "id": "7De351qoStUh",
        "outputId": "fa7ea482-4567-4ce6-d3f5-e5b5565b5d42"
      },
      "outputs": [
        {
          "output_type": "execute_result",
          "data": {
            "text/plain": [
              "<Axes: xlabel='charges'>"
            ]
          },
          "metadata": {},
          "execution_count": 326
        },
        {
          "output_type": "display_data",
          "data": {
            "text/plain": [
              "<Figure size 640x480 with 1 Axes>"
            ],
            "image/png": "[encoded data removed]"
          },
          "metadata": {}
        }
      ],
      "source": [
        "# Box Plot Charges\n",
        "sns.boxplot(x = data['charges'])"
      ],
      "id": "7De351qoStUh"
    },
    {
      "cell_type": "markdown",
      "metadata": {
        "id": "-ga2KTed-cqK"
      },
      "source": [
        "Banyak data outlier di kolom charges"
      ],
      "id": "-ga2KTed-cqK"
    },
    {
      "cell_type": "markdown",
      "source": [
        "# Feature Engineering##"
      ],
      "metadata": {
        "id": "Wd03AAbNEDAJ"
      },
      "id": "Wd03AAbNEDAJ"
    },
    {
      "cell_type": "markdown",
      "metadata": {
        "id": "_M2W2uXT-rna"
      },
      "source": [
        "##Handling Data Outliers##"
      ],
      "id": "_M2W2uXT-rna"
    },
    {
      "cell_type": "code",
      "execution_count": null,
      "metadata": {
        "colab": {
          "base_uri": "https://localhost:8080/",
          "height": 501
        },
        "id": "MEArKVL7sLEx",
        "outputId": "8a0298d3-bd04-485f-85e4-0dbe504fb810"
      },
      "outputs": [
        {
          "output_type": "display_data",
          "data": {
            "text/plain": [
              "<Figure size 1000x500 with 2 Axes>"
            ],
            "image/png": "[encoded data removed]"
          },
          "metadata": {}
        }
      ],
      "source": [
        "# Menghitung nilai Q1 (kuartil 25) dan Q3 (kuartil 75)\n",
        "Q1 = data['bmi'].quantile(0.25)\n",
        "Q3 = data['bmi'].quantile(0.75)\n",
        "\n",
        "# Menghitung rentang IQR\n",
        "IQR = Q3 - Q1\n",
        "\n",
        "# Menentukan batas bawah dan atas untuk outlier\n",
        "lower_bound = Q1 - 1.5 * IQR\n",
        "upper_bound = Q3 + 1.5 * IQR\n",
        "\n",
        "# Mengganti outlier dengan nilai NaN\n",
        "data['bmi'] = np.where((data['bmi'] < lower_bound) | (data['bmi'] > upper_bound), np.nan, data['bmi'])\n",
        "\n",
        "# Menghapus baris yang mengandung nilai NaN\n",
        "data.dropna(subset=['bmi'], inplace=True)\n",
        "\n",
        "# Mengulangi proses yang sama untuk kolom \"charges\"\n",
        "Q1 = data['charges'].quantile(0.25)\n",
        "Q3 = data['charges'].quantile(0.75)\n",
        "IQR = Q3 - Q1\n",
        "lower_bound = Q1 - 1.5 * IQR\n",
        "upper_bound = Q3 + 1.5 * IQR\n",
        "data['charges'] = np.where((data['charges'] < lower_bound) | (data['charges'] > upper_bound), np.nan, data['charges'])\n",
        "data.dropna(subset=['charges'], inplace=True)\n",
        "\n",
        "# Visualisasi hasil penghapusan data outlier\n",
        "plt.figure(figsize=(10, 5))\n",
        "\n",
        "# Visualisasi BMI\n",
        "plt.subplot(1, 2, 1)\n",
        "plt.boxplot(data['bmi'], vert=False)\n",
        "plt.title('Boxplot BMI')\n",
        "\n",
        "# Visualisasi Charges\n",
        "plt.subplot(1, 2, 2)\n",
        "plt.boxplot(data['charges'], vert=False)\n",
        "plt.title('Boxplot Charges')\n",
        "\n",
        "plt.tight_layout()\n",
        "plt.show()"
      ],
      "id": "MEArKVL7sLEx"
    },
    {
      "cell_type": "markdown",
      "source": [
        "##Encoding Data Categorical"
      ],
      "metadata": {
        "id": "-hqeDszpF60h"
      },
      "id": "-hqeDszpF60h"
    },
    {
      "cell_type": "code",
      "execution_count": null,
      "metadata": {
        "colab": {
          "base_uri": "https://localhost:8080/"
        },
        "id": "iUUFJu_Shvty",
        "outputId": "755d5581-f2a8-459d-8dbd-111b3bbcb958"
      },
      "outputs": [
        {
          "output_type": "stream",
          "name": "stdout",
          "text": [
            "      age   bmi  children smoker  charges  sex_male  region_northwest  \\\n",
            "0      19 27.90         0    yes 16884.92         0                 0   \n",
            "1      18 33.77         1     no  1725.55         1                 0   \n",
            "2      28 33.00         3     no  4449.46         1                 0   \n",
            "3      33 22.70         0     no 21984.47         1                 1   \n",
            "4      32 28.88         0     no  3866.86         1                 1   \n",
            "...   ...   ...       ...    ...      ...       ...               ...   \n",
            "1333   50 30.97         3     no 10600.55         1                 1   \n",
            "1334   18 31.92         0     no  2205.98         0                 0   \n",
            "1335   18 36.85         0     no  1629.83         0                 0   \n",
            "1336   21 25.80         0     no  2007.94         0                 0   \n",
            "1337   61 29.07         0    yes 29141.36         0                 1   \n",
            "\n",
            "      region_southeast  region_southwest  \n",
            "0                    0                 1  \n",
            "1                    1                 0  \n",
            "2                    1                 0  \n",
            "3                    0                 0  \n",
            "4                    0                 0  \n",
            "...                ...               ...  \n",
            "1333                 0                 0  \n",
            "1334                 0                 0  \n",
            "1335                 1                 0  \n",
            "1336                 0                 1  \n",
            "1337                 0                 0  \n",
            "\n",
            "[1190 rows x 9 columns]\n"
          ]
        }
      ],
      "source": [
        "# Menggunakan One Hot Encoding untuk mengubah nilai kategorikal \"sex\" dan \"region\"\n",
        "data = pd.get_dummies(data, columns=['sex','region'], drop_first=True)\n",
        "print(data)"
      ],
      "id": "iUUFJu_Shvty"
    },
    {
      "cell_type": "code",
      "execution_count": null,
      "metadata": {
        "colab": {
          "base_uri": "https://localhost:8080/"
        },
        "id": "dEfur__r8iCv",
        "outputId": "db018f5c-c998-4084-af2c-7737d07dc213"
      },
      "outputs": [
        {
          "output_type": "stream",
          "name": "stdout",
          "text": [
            "      age   bmi  children  smoker  charges  sex_male  region_northwest  \\\n",
            "0      19 27.90         0       1 16884.92         0                 0   \n",
            "1      18 33.77         1       0  1725.55         1                 0   \n",
            "2      28 33.00         3       0  4449.46         1                 0   \n",
            "3      33 22.70         0       0 21984.47         1                 1   \n",
            "4      32 28.88         0       0  3866.86         1                 1   \n",
            "...   ...   ...       ...     ...      ...       ...               ...   \n",
            "1333   50 30.97         3       0 10600.55         1                 1   \n",
            "1334   18 31.92         0       0  2205.98         0                 0   \n",
            "1335   18 36.85         0       0  1629.83         0                 0   \n",
            "1336   21 25.80         0       0  2007.94         0                 0   \n",
            "1337   61 29.07         0       1 29141.36         0                 1   \n",
            "\n",
            "      region_southeast  region_southwest  \n",
            "0                    0                 1  \n",
            "1                    1                 0  \n",
            "2                    1                 0  \n",
            "3                    0                 0  \n",
            "4                    0                 0  \n",
            "...                ...               ...  \n",
            "1333                 0                 0  \n",
            "1334                 0                 0  \n",
            "1335                 1                 0  \n",
            "1336                 0                 1  \n",
            "1337                 0                 0  \n",
            "\n",
            "[1190 rows x 9 columns]\n"
          ]
        }
      ],
      "source": [
        "# Mengubah value smoker dari kategorikal menjadi numerik dengan Label Encoder\n",
        "from sklearn.preprocessing import LabelEncoder\n",
        "\n",
        "# Membuat objek LabelEncoder\n",
        "label_encoder = LabelEncoder()\n",
        "\n",
        "# Menggunakan LabelEncoder untuk mengubah variabel \"smoker\"\n",
        "data['smoker'] = label_encoder.fit_transform(data['smoker'])\n",
        "\n",
        "# Menampilkan data setelah transformasi\n",
        "print(data)"
      ],
      "id": "dEfur__r8iCv"
    },
    {
      "cell_type": "markdown",
      "source": [
        "Alasan menggunakan label encoder adalah karena status perokok dan non perokok mempunyai tingkatan, dimana perokok kesehatannya kurang baik daripada non perokok."
      ],
      "metadata": {
        "id": "7uoiVCqirPjP"
      },
      "id": "7uoiVCqirPjP"
    },
    {
      "cell_type": "markdown",
      "source": [
        "##Matriks Korelasi##"
      ],
      "metadata": {
        "id": "dF-Hli44GEL2"
      },
      "id": "dF-Hli44GEL2"
    },
    {
      "cell_type": "code",
      "execution_count": null,
      "metadata": {
        "colab": {
          "base_uri": "https://localhost:8080/",
          "height": 823
        },
        "id": "M5JjzeLiu4Lq",
        "outputId": "215c4f31-1246-48f9-caf7-bb0a1689f0dd"
      },
      "outputs": [
        {
          "output_type": "display_data",
          "data": {
            "text/plain": [
              "<Figure size 1000x800 with 2 Axes>"
            ],
            "image/png": "[encoded data removed]"
          },
          "metadata": {}
        }
      ],
      "source": [
        "# Hitung matriks korelasi dengan metode Pearson\n",
        "correlation_matrix = data.corr(method='pearson')\n",
        "\n",
        "# Buat heatmap untuk memvisualisasikan korelasi\n",
        "plt.figure(figsize=(10, 8))\n",
        "sns.heatmap(correlation_matrix, annot=True, cmap='coolwarm', fmt=\".2f\")\n",
        "plt.title(\"Heatmap Korelasi Pearson antar Variabel\")\n",
        "plt.show()"
      ],
      "id": "M5JjzeLiu4Lq"
    },
    {
      "cell_type": "markdown",
      "source": [
        "Dapat dilihat bahwa terdapat 2 variabel yang berkorelasi tinggi dengan charges, yaitu kolom \"Age\" dan \"Smoker\""
      ],
      "metadata": {
        "id": "2h6dIWvCrrf0"
      },
      "id": "2h6dIWvCrrf0"
    },
    {
      "cell_type": "code",
      "execution_count": null,
      "metadata": {
        "colab": {
          "base_uri": "https://localhost:8080/"
        },
        "id": "dpIrHesntAyT",
        "outputId": "16abb86f-aa32-4226-a23a-fdde0d0a86cc"
      },
      "outputs": [
        {
          "output_type": "stream",
          "name": "stdout",
          "text": [
            "charges            1.00\n",
            "smoker             0.60\n",
            "age                0.45\n",
            "children           0.09\n",
            "region_southwest   0.08\n",
            "bmi                0.06\n",
            "region_northwest   0.04\n",
            "region_southeast   0.03\n",
            "sex_male           0.02\n",
            "Name: charges, dtype: float64\n"
          ]
        }
      ],
      "source": [
        "# Membuat peringkat korelasi\n",
        "correlation_matrix = data.corr(method='pearson')\n",
        "correlation_with_charges = correlation_matrix['charges'].abs().sort_values(ascending=False)\n",
        "print(correlation_with_charges)"
      ],
      "id": "dpIrHesntAyT"
    },
    {
      "cell_type": "markdown",
      "source": [
        "##Standarisasi Data##"
      ],
      "metadata": {
        "id": "88wp_yVaGMpU"
      },
      "id": "88wp_yVaGMpU"
    },
    {
      "cell_type": "code",
      "execution_count": null,
      "metadata": {
        "colab": {
          "base_uri": "https://localhost:8080/",
          "height": 423
        },
        "id": "CFHd-vpKitJj",
        "outputId": "fb7874b1-d492-4735-9c89-ebb61572e92b"
      },
      "outputs": [
        {
          "output_type": "execute_result",
          "data": {
            "text/plain": [
              "       age   bmi  children  smoker  charges  sex_male  region_northwest  \\\n",
              "0    -1.43 -0.36     -0.89    2.78     0.97     -0.98             -0.59   \n",
              "1    -1.50  0.64     -0.07   -0.36    -1.14      1.03             -0.59   \n",
              "2    -0.79  0.51      1.57   -0.36    -0.76      1.03             -0.59   \n",
              "3    -0.43 -1.24     -0.89   -0.36     1.68      1.03              1.71   \n",
              "4    -0.50 -0.19     -0.89   -0.36    -0.84      1.03              1.71   \n",
              "...    ...   ...       ...     ...      ...       ...               ...   \n",
              "1333  0.78  0.17      1.57   -0.36     0.10      1.03              1.71   \n",
              "1334 -1.50  0.33     -0.89   -0.36    -1.07     -0.98             -0.59   \n",
              "1335 -1.50  1.17     -0.89   -0.36    -1.15     -0.98             -0.59   \n",
              "1336 -1.28 -0.71     -0.89   -0.36    -1.10     -0.98             -0.59   \n",
              "1337  1.56 -0.16     -0.89    2.78     2.68     -0.98              1.71   \n",
              "\n",
              "      region_southeast  region_southwest  \n",
              "0                -0.58              1.76  \n",
              "1                 1.72             -0.57  \n",
              "2                 1.72             -0.57  \n",
              "3                -0.58             -0.57  \n",
              "4                -0.58             -0.57  \n",
              "...                ...               ...  \n",
              "1333             -0.58             -0.57  \n",
              "1334             -0.58             -0.57  \n",
              "1335              1.72             -0.57  \n",
              "1336             -0.58              1.76  \n",
              "1337             -0.58             -0.57  \n",
              "\n",
              "[1190 rows x 9 columns]"
            ],
            "text/html": [
              "\n",
              "  <div id=\"df-92b17c15-4d46-4409-b3f8-c02d140f5f60\" class=\"colab-df-container\">\n",
              "    <div>\n",
              "<style scoped>\n",
              "    .dataframe tbody tr th:only-of-type {\n",
              "        vertical-align: middle;\n",
              "    }\n",
              "\n",
              "    .dataframe tbody tr th {\n",
              "        vertical-align: top;\n",
              "    }\n",
              "\n",
              "    .dataframe thead th {\n",
              "        text-align: right;\n",
              "    }\n",
              "</style>\n",
              "<table border=\"1\" class=\"dataframe\">\n",
              "  <thead>\n",
              "    <tr style=\"text-align: right;\">\n",
              "      <th></th>\n",
              "      <th>age</th>\n",
              "      <th>bmi</th>\n",
              "      <th>children</th>\n",
              "      <th>smoker</th>\n",
              "      <th>charges</th>\n",
              "      <th>sex_male</th>\n",
              "      <th>region_northwest</th>\n",
              "      <th>region_southeast</th>\n",
              "      <th>region_southwest</th>\n",
              "    </tr>\n",
              "  </thead>\n",
              "  <tbody>\n",
              "    <tr>\n",
              "      <th>0</th>\n",
              "      <td>-1.43</td>\n",
              "      <td>-0.36</td>\n",
              "      <td>-0.89</td>\n",
              "      <td>2.78</td>\n",
              "      <td>0.97</td>\n",
              "      <td>-0.98</td>\n",
              "      <td>-0.59</td>\n",
              "      <td>-0.58</td>\n",
              "      <td>1.76</td>\n",
              "    </tr>\n",
              "    <tr>\n",
              "      <th>1</th>\n",
              "      <td>-1.50</td>\n",
              "      <td>0.64</td>\n",
              "      <td>-0.07</td>\n",
              "      <td>-0.36</td>\n",
              "      <td>-1.14</td>\n",
              "      <td>1.03</td>\n",
              "      <td>-0.59</td>\n",
              "      <td>1.72</td>\n",
              "      <td>-0.57</td>\n",
              "    </tr>\n",
              "    <tr>\n",
              "      <th>2</th>\n",
              "      <td>-0.79</td>\n",
              "      <td>0.51</td>\n",
              "      <td>1.57</td>\n",
              "      <td>-0.36</td>\n",
              "      <td>-0.76</td>\n",
              "      <td>1.03</td>\n",
              "      <td>-0.59</td>\n",
              "      <td>1.72</td>\n",
              "      <td>-0.57</td>\n",
              "    </tr>\n",
              "    <tr>\n",
              "      <th>3</th>\n",
              "      <td>-0.43</td>\n",
              "      <td>-1.24</td>\n",
              "      <td>-0.89</td>\n",
              "      <td>-0.36</td>\n",
              "      <td>1.68</td>\n",
              "      <td>1.03</td>\n",
              "      <td>1.71</td>\n",
              "      <td>-0.58</td>\n",
              "      <td>-0.57</td>\n",
              "    </tr>\n",
              "    <tr>\n",
              "      <th>4</th>\n",
              "      <td>-0.50</td>\n",
              "      <td>-0.19</td>\n",
              "      <td>-0.89</td>\n",
              "      <td>-0.36</td>\n",
              "      <td>-0.84</td>\n",
              "      <td>1.03</td>\n",
              "      <td>1.71</td>\n",
              "      <td>-0.58</td>\n",
              "      <td>-0.57</td>\n",
              "    </tr>\n",
              "    <tr>\n",
              "      <th>...</th>\n",
              "      <td>...</td>\n",
              "      <td>...</td>\n",
              "      <td>...</td>\n",
              "      <td>...</td>\n",
              "      <td>...</td>\n",
              "      <td>...</td>\n",
              "      <td>...</td>\n",
              "      <td>...</td>\n",
              "      <td>...</td>\n",
              "    </tr>\n",
              "    <tr>\n",
              "      <th>1333</th>\n",
              "      <td>0.78</td>\n",
              "      <td>0.17</td>\n",
              "      <td>1.57</td>\n",
              "      <td>-0.36</td>\n",
              "      <td>0.10</td>\n",
              "      <td>1.03</td>\n",
              "      <td>1.71</td>\n",
              "      <td>-0.58</td>\n",
              "      <td>-0.57</td>\n",
              "    </tr>\n",
              "    <tr>\n",
              "      <th>1334</th>\n",
              "      <td>-1.50</td>\n",
              "      <td>0.33</td>\n",
              "      <td>-0.89</td>\n",
              "      <td>-0.36</td>\n",
              "      <td>-1.07</td>\n",
              "      <td>-0.98</td>\n",
              "      <td>-0.59</td>\n",
              "      <td>-0.58</td>\n",
              "      <td>-0.57</td>\n",
              "    </tr>\n",
              "    <tr>\n",
              "      <th>1335</th>\n",
              "      <td>-1.50</td>\n",
              "      <td>1.17</td>\n",
              "      <td>-0.89</td>\n",
              "      <td>-0.36</td>\n",
              "      <td>-1.15</td>\n",
              "      <td>-0.98</td>\n",
              "      <td>-0.59</td>\n",
              "      <td>1.72</td>\n",
              "      <td>-0.57</td>\n",
              "    </tr>\n",
              "    <tr>\n",
              "      <th>1336</th>\n",
              "      <td>-1.28</td>\n",
              "      <td>-0.71</td>\n",
              "      <td>-0.89</td>\n",
              "      <td>-0.36</td>\n",
              "      <td>-1.10</td>\n",
              "      <td>-0.98</td>\n",
              "      <td>-0.59</td>\n",
              "      <td>-0.58</td>\n",
              "      <td>1.76</td>\n",
              "    </tr>\n",
              "    <tr>\n",
              "      <th>1337</th>\n",
              "      <td>1.56</td>\n",
              "      <td>-0.16</td>\n",
              "      <td>-0.89</td>\n",
              "      <td>2.78</td>\n",
              "      <td>2.68</td>\n",
              "      <td>-0.98</td>\n",
              "      <td>1.71</td>\n",
              "      <td>-0.58</td>\n",
              "      <td>-0.57</td>\n",
              "    </tr>\n",
              "  </tbody>\n",
              "</table>\n",
              "<p>1190 rows × 9 columns</p>\n",
              "</div>\n",
              "    <div class=\"colab-df-buttons\">\n",
              "\n",
              "  <div class=\"colab-df-container\">\n",
              "    <button class=\"colab-df-convert\" onclick=\"convertToInteractive('df-92b17c15-4d46-4409-b3f8-c02d140f5f60')\"\n",
              "            title=\"Convert this dataframe to an interactive table.\"\n",
              "            style=\"display:none;\">\n",
              "\n",
              "  <svg xmlns=\"http://www.w3.org/2000/svg\" height=\"24px\" viewBox=\"0 -960 960 960\">\n",
              "    <path d=\"M120-120v-720h720v720H120Zm60-500h600v-160H180v160Zm220 220h160v-160H400v160Zm0 220h160v-160H400v160ZM180-400h160v-160H180v160Zm440 0h160v-160H620v160ZM180-180h160v-160H180v160Zm440 0h160v-160H620v160Z\"/>\n",
              "  </svg>\n",
              "    </button>\n",
              "\n",
              "  <style>\n",
              "    .colab-df-container {\n",
              "      display:flex;\n",
              "      gap: 12px;\n",
              "    }\n",
              "\n",
              "    .colab-df-convert {\n",
              "      background-color: #E8F0FE;\n",
              "      border: none;\n",
              "      border-radius: 50%;\n",
              "      cursor: pointer;\n",
              "      display: none;\n",
              "      fill: #1967D2;\n",
              "      height: 32px;\n",
              "      padding: 0 0 0 0;\n",
              "      width: 32px;\n",
              "    }\n",
              "\n",
              "    .colab-df-convert:hover {\n",
              "      background-color: #E2EBFA;\n",
              "      box-shadow: 0px 1px 2px rgba(60, 64, 67, 0.3), 0px 1px 3px 1px rgba(60, 64, 67, 0.15);\n",
              "      fill: #174EA6;\n",
              "    }\n",
              "\n",
              "    .colab-df-buttons div {\n",
              "      margin-bottom: 4px;\n",
              "    }\n",
              "\n",
              "    [theme=dark] .colab-df-convert {\n",
              "      background-color: #3B4455;\n",
              "      fill: #D2E3FC;\n",
              "    }\n",
              "\n",
              "    [theme=dark] .colab-df-convert:hover {\n",
              "      background-color: #434B5C;\n",
              "      box-shadow: 0px 1px 3px 1px rgba(0, 0, 0, 0.15);\n",
              "      filter: drop-shadow(0px 1px 2px rgba(0, 0, 0, 0.3));\n",
              "      fill: #FFFFFF;\n",
              "    }\n",
              "  </style>\n",
              "\n",
              "    <script>\n",
              "      const buttonEl =\n",
              "        document.querySelector('#df-92b17c15-4d46-4409-b3f8-c02d140f5f60 button.colab-df-convert');\n",
              "      buttonEl.style.display =\n",
              "        google.colab.kernel.accessAllowed ? 'block' : 'none';\n",
              "\n",
              "      async function convertToInteractive(key) {\n",
              "        const element = document.querySelector('#df-92b17c15-4d46-4409-b3f8-c02d140f5f60');\n",
              "        const dataTable =\n",
              "          await google.colab.kernel.invokeFunction('convertToInteractive',\n",
              "                                                    [key], {});\n",
              "        if (!dataTable) return;\n",
              "\n",
              "        const docLinkHtml = 'Like what you see? Visit the ' +\n",
              "          '<a target=\"_blank\" href=https://colab.research.google.com/notebooks/data_table.ipynb>data table notebook</a>'\n",
              "          + ' to learn more about interactive tables.';\n",
              "        element.innerHTML = '';\n",
              "        dataTable['output_type'] = 'display_data';\n",
              "        await google.colab.output.renderOutput(dataTable, element);\n",
              "        const docLink = document.createElement('div');\n",
              "        docLink.innerHTML = docLinkHtml;\n",
              "        element.appendChild(docLink);\n",
              "      }\n",
              "    </script>\n",
              "  </div>\n",
              "\n",
              "\n",
              "<div id=\"df-7977c93c-ccbc-45f3-a859-278a2eeed4d3\">\n",
              "  <button class=\"colab-df-quickchart\" onclick=\"quickchart('df-7977c93c-ccbc-45f3-a859-278a2eeed4d3')\"\n",
              "            title=\"Suggest charts\"\n",
              "            style=\"display:none;\">\n",
              "\n",
              "<svg xmlns=\"http://www.w3.org/2000/svg\" height=\"24px\"viewBox=\"0 0 24 24\"\n",
              "     width=\"24px\">\n",
              "    <g>\n",
              "        <path d=\"M19 3H5c-1.1 0-2 .9-2 2v14c0 1.1.9 2 2 2h14c1.1 0 2-.9 2-2V5c0-1.1-.9-2-2-2zM9 17H7v-7h2v7zm4 0h-2V7h2v10zm4 0h-2v-4h2v4z\"/>\n",
              "    </g>\n",
              "</svg>\n",
              "  </button>\n",
              "\n",
              "<style>\n",
              "  .colab-df-quickchart {\n",
              "      --bg-color: #E8F0FE;\n",
              "      --fill-color: #1967D2;\n",
              "      --hover-bg-color: #E2EBFA;\n",
              "      --hover-fill-color: #174EA6;\n",
              "      --disabled-fill-color: #AAA;\n",
              "      --disabled-bg-color: #DDD;\n",
              "  }\n",
              "\n",
              "  [theme=dark] .colab-df-quickchart {\n",
              "      --bg-color: #3B4455;\n",
              "      --fill-color: #D2E3FC;\n",
              "      --hover-bg-color: #434B5C;\n",
              "      --hover-fill-color: #FFFFFF;\n",
              "      --disabled-bg-color: #3B4455;\n",
              "      --disabled-fill-color: #666;\n",
              "  }\n",
              "\n",
              "  .colab-df-quickchart {\n",
              "    background-color: var(--bg-color);\n",
              "    border: none;\n",
              "    border-radius: 50%;\n",
              "    cursor: pointer;\n",
              "    display: none;\n",
              "    fill: var(--fill-color);\n",
              "    height: 32px;\n",
              "    padding: 0;\n",
              "    width: 32px;\n",
              "  }\n",
              "\n",
              "  .colab-df-quickchart:hover {\n",
              "    background-color: var(--hover-bg-color);\n",
              "    box-shadow: 0 1px 2px rgba(60, 64, 67, 0.3), 0 1px 3px 1px rgba(60, 64, 67, 0.15);\n",
              "    fill: var(--button-hover-fill-color);\n",
              "  }\n",
              "\n",
              "  .colab-df-quickchart-complete:disabled,\n",
              "  .colab-df-quickchart-complete:disabled:hover {\n",
              "    background-color: var(--disabled-bg-color);\n",
              "    fill: var(--disabled-fill-color);\n",
              "    box-shadow: none;\n",
              "  }\n",
              "\n",
              "  .colab-df-spinner {\n",
              "    border: 2px solid var(--fill-color);\n",
              "    border-color: transparent;\n",
              "    border-bottom-color: var(--fill-color);\n",
              "    animation:\n",
              "      spin 1s steps(1) infinite;\n",
              "  }\n",
              "\n",
              "  @keyframes spin {\n",
              "    0% {\n",
              "      border-color: transparent;\n",
              "      border-bottom-color: var(--fill-color);\n",
              "      border-left-color: var(--fill-color);\n",
              "    }\n",
              "    20% {\n",
              "      border-color: transparent;\n",
              "      border-left-color: var(--fill-color);\n",
              "      border-top-color: var(--fill-color);\n",
              "    }\n",
              "    30% {\n",
              "      border-color: transparent;\n",
              "      border-left-color: var(--fill-color);\n",
              "      border-top-color: var(--fill-color);\n",
              "      border-right-color: var(--fill-color);\n",
              "    }\n",
              "    40% {\n",
              "      border-color: transparent;\n",
              "      border-right-color: var(--fill-color);\n",
              "      border-top-color: var(--fill-color);\n",
              "    }\n",
              "    60% {\n",
              "      border-color: transparent;\n",
              "      border-right-color: var(--fill-color);\n",
              "    }\n",
              "    80% {\n",
              "      border-color: transparent;\n",
              "      border-right-color: var(--fill-color);\n",
              "      border-bottom-color: var(--fill-color);\n",
              "    }\n",
              "    90% {\n",
              "      border-color: transparent;\n",
              "      border-bottom-color: var(--fill-color);\n",
              "    }\n",
              "  }\n",
              "</style>\n",
              "\n",
              "  <script>\n",
              "    async function quickchart(key) {\n",
              "      const quickchartButtonEl =\n",
              "        document.querySelector('#' + key + ' button');\n",
              "      quickchartButtonEl.disabled = true;  // To prevent multiple clicks.\n",
              "      quickchartButtonEl.classList.add('colab-df-spinner');\n",
              "      try {\n",
              "        const charts = await google.colab.kernel.invokeFunction(\n",
              "            'suggestCharts', [key], {});\n",
              "      } catch (error) {\n",
              "        console.error('Error during call to suggestCharts:', error);\n",
              "      }\n",
              "      quickchartButtonEl.classList.remove('colab-df-spinner');\n",
              "      quickchartButtonEl.classList.add('colab-df-quickchart-complete');\n",
              "    }\n",
              "    (() => {\n",
              "      let quickchartButtonEl =\n",
              "        document.querySelector('#df-7977c93c-ccbc-45f3-a859-278a2eeed4d3 button');\n",
              "      quickchartButtonEl.style.display =\n",
              "        google.colab.kernel.accessAllowed ? 'block' : 'none';\n",
              "    })();\n",
              "  </script>\n",
              "</div>\n",
              "    </div>\n",
              "  </div>\n"
            ]
          },
          "metadata": {},
          "execution_count": 332
        }
      ],
      "source": [
        "from sklearn.preprocessing import StandardScaler\n",
        "\n",
        "# Inisiliasi StandardScaler\n",
        "scaler = StandardScaler()\n",
        "\n",
        "# Standarisasi semua kolom didataframe\n",
        "data_standardized = scaler.fit_transform(data)\n",
        "\n",
        "# Reassign nilai standar ke DataFrame asli\n",
        "data.loc[:,:] = data_standardized\n",
        "\n",
        "# Menampilkan hasil modifikasi dataframe\n",
        "data"
      ],
      "id": "CFHd-vpKitJj"
    },
    {
      "cell_type": "markdown",
      "source": [
        "Karena tadi diheatmap hanya 2 variabel yang mempunyai korelasi tertinggi dengan charges, maka variabel tersebut sebagai X dan charges sebagai y."
      ],
      "metadata": {
        "id": "K5axtBTtsNX6"
      },
      "id": "K5axtBTtsNX6"
    },
    {
      "cell_type": "markdown",
      "source": [
        "# Feature Selection"
      ],
      "metadata": {
        "id": "F894Fii4GVZE"
      },
      "id": "F894Fii4GVZE"
    },
    {
      "cell_type": "code",
      "execution_count": null,
      "metadata": {
        "id": "fgyh77ZosepW"
      },
      "outputs": [],
      "source": [
        "# Memilih kolom \"age\" dan \"smoker\" sebagai fitur (X)\n",
        "X = data[['age', 'smoker']]\n",
        "\n",
        "# Memilih kolom \"charges\" sebagai variabel target (y)\n",
        "y = data['charges']"
      ],
      "id": "fgyh77ZosepW"
    },
    {
      "cell_type": "code",
      "execution_count": null,
      "metadata": {
        "id": "FsyhjJyjSQDD"
      },
      "outputs": [],
      "source": [
        "# Memisahkan fitur dan variabel target\n",
        "#X = data.drop('charges', axis=1)\n",
        "#y = data['charges']"
      ],
      "id": "FsyhjJyjSQDD"
    },
    {
      "cell_type": "code",
      "execution_count": null,
      "metadata": {
        "colab": {
          "base_uri": "https://localhost:8080/",
          "height": 423
        },
        "id": "kOp2xy56FLPh",
        "outputId": "5357f5ca-7aee-41ef-b238-fd496690d14a"
      },
      "outputs": [
        {
          "output_type": "execute_result",
          "data": {
            "text/plain": [
              "       age  smoker\n",
              "0    -1.43    2.78\n",
              "1    -1.50   -0.36\n",
              "2    -0.79   -0.36\n",
              "3    -0.43   -0.36\n",
              "4    -0.50   -0.36\n",
              "...    ...     ...\n",
              "1333  0.78   -0.36\n",
              "1334 -1.50   -0.36\n",
              "1335 -1.50   -0.36\n",
              "1336 -1.28   -0.36\n",
              "1337  1.56    2.78\n",
              "\n",
              "[1190 rows x 2 columns]"
            ],
            "text/html": [
              "\n",
              "  <div id=\"df-9567565e-c7a4-487a-8c3f-212e5c794ceb\" class=\"colab-df-container\">\n",
              "    <div>\n",
              "<style scoped>\n",
              "    .dataframe tbody tr th:only-of-type {\n",
              "        vertical-align: middle;\n",
              "    }\n",
              "\n",
              "    .dataframe tbody tr th {\n",
              "        vertical-align: top;\n",
              "    }\n",
              "\n",
              "    .dataframe thead th {\n",
              "        text-align: right;\n",
              "    }\n",
              "</style>\n",
              "<table border=\"1\" class=\"dataframe\">\n",
              "  <thead>\n",
              "    <tr style=\"text-align: right;\">\n",
              "      <th></th>\n",
              "      <th>age</th>\n",
              "      <th>smoker</th>\n",
              "    </tr>\n",
              "  </thead>\n",
              "  <tbody>\n",
              "    <tr>\n",
              "      <th>0</th>\n",
              "      <td>-1.43</td>\n",
              "      <td>2.78</td>\n",
              "    </tr>\n",
              "    <tr>\n",
              "      <th>1</th>\n",
              "      <td>-1.50</td>\n",
              "      <td>-0.36</td>\n",
              "    </tr>\n",
              "    <tr>\n",
              "      <th>2</th>\n",
              "      <td>-0.79</td>\n",
              "      <td>-0.36</td>\n",
              "    </tr>\n",
              "    <tr>\n",
              "      <th>3</th>\n",
              "      <td>-0.43</td>\n",
              "      <td>-0.36</td>\n",
              "    </tr>\n",
              "    <tr>\n",
              "      <th>4</th>\n",
              "      <td>-0.50</td>\n",
              "      <td>-0.36</td>\n",
              "    </tr>\n",
              "    <tr>\n",
              "      <th>...</th>\n",
              "      <td>...</td>\n",
              "      <td>...</td>\n",
              "    </tr>\n",
              "    <tr>\n",
              "      <th>1333</th>\n",
              "      <td>0.78</td>\n",
              "      <td>-0.36</td>\n",
              "    </tr>\n",
              "    <tr>\n",
              "      <th>1334</th>\n",
              "      <td>-1.50</td>\n",
              "      <td>-0.36</td>\n",
              "    </tr>\n",
              "    <tr>\n",
              "      <th>1335</th>\n",
              "      <td>-1.50</td>\n",
              "      <td>-0.36</td>\n",
              "    </tr>\n",
              "    <tr>\n",
              "      <th>1336</th>\n",
              "      <td>-1.28</td>\n",
              "      <td>-0.36</td>\n",
              "    </tr>\n",
              "    <tr>\n",
              "      <th>1337</th>\n",
              "      <td>1.56</td>\n",
              "      <td>2.78</td>\n",
              "    </tr>\n",
              "  </tbody>\n",
              "</table>\n",
              "<p>1190 rows × 2 columns</p>\n",
              "</div>\n",
              "    <div class=\"colab-df-buttons\">\n",
              "\n",
              "  <div class=\"colab-df-container\">\n",
              "    <button class=\"colab-df-convert\" onclick=\"convertToInteractive('df-9567565e-c7a4-487a-8c3f-212e5c794ceb')\"\n",
              "            title=\"Convert this dataframe to an interactive table.\"\n",
              "            style=\"display:none;\">\n",
              "\n",
              "  <svg xmlns=\"http://www.w3.org/2000/svg\" height=\"24px\" viewBox=\"0 -960 960 960\">\n",
              "    <path d=\"M120-120v-720h720v720H120Zm60-500h600v-160H180v160Zm220 220h160v-160H400v160Zm0 220h160v-160H400v160ZM180-400h160v-160H180v160Zm440 0h160v-160H620v160ZM180-180h160v-160H180v160Zm440 0h160v-160H620v160Z\"/>\n",
              "  </svg>\n",
              "    </button>\n",
              "\n",
              "  <style>\n",
              "    .colab-df-container {\n",
              "      display:flex;\n",
              "      gap: 12px;\n",
              "    }\n",
              "\n",
              "    .colab-df-convert {\n",
              "      background-color: #E8F0FE;\n",
              "      border: none;\n",
              "      border-radius: 50%;\n",
              "      cursor: pointer;\n",
              "      display: none;\n",
              "      fill: #1967D2;\n",
              "      height: 32px;\n",
              "      padding: 0 0 0 0;\n",
              "      width: 32px;\n",
              "    }\n",
              "\n",
              "    .colab-df-convert:hover {\n",
              "      background-color: #E2EBFA;\n",
              "      box-shadow: 0px 1px 2px rgba(60, 64, 67, 0.3), 0px 1px 3px 1px rgba(60, 64, 67, 0.15);\n",
              "      fill: #174EA6;\n",
              "    }\n",
              "\n",
              "    .colab-df-buttons div {\n",
              "      margin-bottom: 4px;\n",
              "    }\n",
              "\n",
              "    [theme=dark] .colab-df-convert {\n",
              "      background-color: #3B4455;\n",
              "      fill: #D2E3FC;\n",
              "    }\n",
              "\n",
              "    [theme=dark] .colab-df-convert:hover {\n",
              "      background-color: #434B5C;\n",
              "      box-shadow: 0px 1px 3px 1px rgba(0, 0, 0, 0.15);\n",
              "      filter: drop-shadow(0px 1px 2px rgba(0, 0, 0, 0.3));\n",
              "      fill: #FFFFFF;\n",
              "    }\n",
              "  </style>\n",
              "\n",
              "    <script>\n",
              "      const buttonEl =\n",
              "        document.querySelector('#df-9567565e-c7a4-487a-8c3f-212e5c794ceb button.colab-df-convert');\n",
              "      buttonEl.style.display =\n",
              "        google.colab.kernel.accessAllowed ? 'block' : 'none';\n",
              "\n",
              "      async function convertToInteractive(key) {\n",
              "        const element = document.querySelector('#df-9567565e-c7a4-487a-8c3f-212e5c794ceb');\n",
              "        const dataTable =\n",
              "          await google.colab.kernel.invokeFunction('convertToInteractive',\n",
              "                                                    [key], {});\n",
              "        if (!dataTable) return;\n",
              "\n",
              "        const docLinkHtml = 'Like what you see? Visit the ' +\n",
              "          '<a target=\"_blank\" href=https://colab.research.google.com/notebooks/data_table.ipynb>data table notebook</a>'\n",
              "          + ' to learn more about interactive tables.';\n",
              "        element.innerHTML = '';\n",
              "        dataTable['output_type'] = 'display_data';\n",
              "        await google.colab.output.renderOutput(dataTable, element);\n",
              "        const docLink = document.createElement('div');\n",
              "        docLink.innerHTML = docLinkHtml;\n",
              "        element.appendChild(docLink);\n",
              "      }\n",
              "    </script>\n",
              "  </div>\n",
              "\n",
              "\n",
              "<div id=\"df-e7a1305e-71ae-4dd6-b281-633c9ac58304\">\n",
              "  <button class=\"colab-df-quickchart\" onclick=\"quickchart('df-e7a1305e-71ae-4dd6-b281-633c9ac58304')\"\n",
              "            title=\"Suggest charts\"\n",
              "            style=\"display:none;\">\n",
              "\n",
              "<svg xmlns=\"http://www.w3.org/2000/svg\" height=\"24px\"viewBox=\"0 0 24 24\"\n",
              "     width=\"24px\">\n",
              "    <g>\n",
              "        <path d=\"M19 3H5c-1.1 0-2 .9-2 2v14c0 1.1.9 2 2 2h14c1.1 0 2-.9 2-2V5c0-1.1-.9-2-2-2zM9 17H7v-7h2v7zm4 0h-2V7h2v10zm4 0h-2v-4h2v4z\"/>\n",
              "    </g>\n",
              "</svg>\n",
              "  </button>\n",
              "\n",
              "<style>\n",
              "  .colab-df-quickchart {\n",
              "      --bg-color: #E8F0FE;\n",
              "      --fill-color: #1967D2;\n",
              "      --hover-bg-color: #E2EBFA;\n",
              "      --hover-fill-color: #174EA6;\n",
              "      --disabled-fill-color: #AAA;\n",
              "      --disabled-bg-color: #DDD;\n",
              "  }\n",
              "\n",
              "  [theme=dark] .colab-df-quickchart {\n",
              "      --bg-color: #3B4455;\n",
              "      --fill-color: #D2E3FC;\n",
              "      --hover-bg-color: #434B5C;\n",
              "      --hover-fill-color: #FFFFFF;\n",
              "      --disabled-bg-color: #3B4455;\n",
              "      --disabled-fill-color: #666;\n",
              "  }\n",
              "\n",
              "  .colab-df-quickchart {\n",
              "    background-color: var(--bg-color);\n",
              "    border: none;\n",
              "    border-radius: 50%;\n",
              "    cursor: pointer;\n",
              "    display: none;\n",
              "    fill: var(--fill-color);\n",
              "    height: 32px;\n",
              "    padding: 0;\n",
              "    width: 32px;\n",
              "  }\n",
              "\n",
              "  .colab-df-quickchart:hover {\n",
              "    background-color: var(--hover-bg-color);\n",
              "    box-shadow: 0 1px 2px rgba(60, 64, 67, 0.3), 0 1px 3px 1px rgba(60, 64, 67, 0.15);\n",
              "    fill: var(--button-hover-fill-color);\n",
              "  }\n",
              "\n",
              "  .colab-df-quickchart-complete:disabled,\n",
              "  .colab-df-quickchart-complete:disabled:hover {\n",
              "    background-color: var(--disabled-bg-color);\n",
              "    fill: var(--disabled-fill-color);\n",
              "    box-shadow: none;\n",
              "  }\n",
              "\n",
              "  .colab-df-spinner {\n",
              "    border: 2px solid var(--fill-color);\n",
              "    border-color: transparent;\n",
              "    border-bottom-color: var(--fill-color);\n",
              "    animation:\n",
              "      spin 1s steps(1) infinite;\n",
              "  }\n",
              "\n",
              "  @keyframes spin {\n",
              "    0% {\n",
              "      border-color: transparent;\n",
              "      border-bottom-color: var(--fill-color);\n",
              "      border-left-color: var(--fill-color);\n",
              "    }\n",
              "    20% {\n",
              "      border-color: transparent;\n",
              "      border-left-color: var(--fill-color);\n",
              "      border-top-color: var(--fill-color);\n",
              "    }\n",
              "    30% {\n",
              "      border-color: transparent;\n",
              "      border-left-color: var(--fill-color);\n",
              "      border-top-color: var(--fill-color);\n",
              "      border-right-color: var(--fill-color);\n",
              "    }\n",
              "    40% {\n",
              "      border-color: transparent;\n",
              "      border-right-color: var(--fill-color);\n",
              "      border-top-color: var(--fill-color);\n",
              "    }\n",
              "    60% {\n",
              "      border-color: transparent;\n",
              "      border-right-color: var(--fill-color);\n",
              "    }\n",
              "    80% {\n",
              "      border-color: transparent;\n",
              "      border-right-color: var(--fill-color);\n",
              "      border-bottom-color: var(--fill-color);\n",
              "    }\n",
              "    90% {\n",
              "      border-color: transparent;\n",
              "      border-bottom-color: var(--fill-color);\n",
              "    }\n",
              "  }\n",
              "</style>\n",
              "\n",
              "  <script>\n",
              "    async function quickchart(key) {\n",
              "      const quickchartButtonEl =\n",
              "        document.querySelector('#' + key + ' button');\n",
              "      quickchartButtonEl.disabled = true;  // To prevent multiple clicks.\n",
              "      quickchartButtonEl.classList.add('colab-df-spinner');\n",
              "      try {\n",
              "        const charts = await google.colab.kernel.invokeFunction(\n",
              "            'suggestCharts', [key], {});\n",
              "      } catch (error) {\n",
              "        console.error('Error during call to suggestCharts:', error);\n",
              "      }\n",
              "      quickchartButtonEl.classList.remove('colab-df-spinner');\n",
              "      quickchartButtonEl.classList.add('colab-df-quickchart-complete');\n",
              "    }\n",
              "    (() => {\n",
              "      let quickchartButtonEl =\n",
              "        document.querySelector('#df-e7a1305e-71ae-4dd6-b281-633c9ac58304 button');\n",
              "      quickchartButtonEl.style.display =\n",
              "        google.colab.kernel.accessAllowed ? 'block' : 'none';\n",
              "    })();\n",
              "  </script>\n",
              "</div>\n",
              "    </div>\n",
              "  </div>\n"
            ]
          },
          "metadata": {},
          "execution_count": 334
        }
      ],
      "source": [
        "X"
      ],
      "id": "kOp2xy56FLPh"
    },
    {
      "cell_type": "code",
      "execution_count": null,
      "metadata": {
        "colab": {
          "base_uri": "https://localhost:8080/"
        },
        "id": "yY0gd73Boz87",
        "outputId": "6c335541-5f76-4997-9b65-868b30e8e65e"
      },
      "outputs": [
        {
          "output_type": "execute_result",
          "data": {
            "text/plain": [
              "0       0.97\n",
              "1      -1.14\n",
              "2      -0.76\n",
              "3       1.68\n",
              "4      -0.84\n",
              "        ... \n",
              "1333    0.10\n",
              "1334   -1.07\n",
              "1335   -1.15\n",
              "1336   -1.10\n",
              "1337    2.68\n",
              "Name: charges, Length: 1190, dtype: float64"
            ]
          },
          "metadata": {},
          "execution_count": 335
        }
      ],
      "source": [
        "y"
      ],
      "id": "yY0gd73Boz87"
    },
    {
      "cell_type": "code",
      "execution_count": null,
      "metadata": {
        "colab": {
          "base_uri": "https://localhost:8080/"
        },
        "id": "3llJBkBzCydP",
        "outputId": "200f895d-f370-4a88-f8c1-7dbd16fb48a5"
      },
      "outputs": [
        {
          "output_type": "stream",
          "name": "stdout",
          "text": [
            "Training Set: 833 rows\n",
            "Test Set: 357 rows\n"
          ]
        }
      ],
      "source": [
        "from sklearn.model_selection import train_test_split\n",
        "\n",
        "# Split data training dan testing 70% - 20%\n",
        "X_train, X_test, y_train, y_test = train_test_split(X, y, test_size=0.30, random_state=42)\n",
        "\n",
        "print ('Training Set: %d rows\\nTest Set: %d rows' % (X_train.shape[0], X_test.shape[0]))"
      ],
      "id": "3llJBkBzCydP"
    },
    {
      "cell_type": "markdown",
      "source": [
        "Saya menggunakan Lazypredict untuk mempermudah serta menghemat waktu dalam pemilihan model"
      ],
      "metadata": {
        "id": "fEDcPV9hsxYZ"
      },
      "id": "fEDcPV9hsxYZ"
    },
    {
      "cell_type": "code",
      "execution_count": null,
      "metadata": {
        "colab": {
          "base_uri": "https://localhost:8080/"
        },
        "id": "mus8c8yBnylF",
        "outputId": "05594273-0d10-4baa-8b44-a67a67798f38"
      },
      "outputs": [
        {
          "output_type": "stream",
          "name": "stdout",
          "text": [
            "Requirement already satisfied: lazypredict in /usr/local/lib/python3.10/dist-packages (0.2.12)\n",
            "Requirement already satisfied: click in /usr/local/lib/python3.10/dist-packages (from lazypredict) (8.1.7)\n",
            "Requirement already satisfied: scikit-learn in /usr/local/lib/python3.10/dist-packages (from lazypredict) (1.2.2)\n",
            "Requirement already satisfied: pandas in /usr/local/lib/python3.10/dist-packages (from lazypredict) (1.5.3)\n",
            "Requirement already satisfied: tqdm in /usr/local/lib/python3.10/dist-packages (from lazypredict) (4.66.1)\n",
            "Requirement already satisfied: joblib in /usr/local/lib/python3.10/dist-packages (from lazypredict) (1.3.2)\n",
            "Requirement already satisfied: lightgbm in /usr/local/lib/python3.10/dist-packages (from lazypredict) (4.1.0)\n",
            "Requirement already satisfied: xgboost in /usr/local/lib/python3.10/dist-packages (from lazypredict) (2.0.2)\n",
            "Requirement already satisfied: numpy in /usr/local/lib/python3.10/dist-packages (from lightgbm->lazypredict) (1.23.5)\n",
            "Requirement already satisfied: scipy in /usr/local/lib/python3.10/dist-packages (from lightgbm->lazypredict) (1.11.4)\n",
            "Requirement already satisfied: python-dateutil>=2.8.1 in /usr/local/lib/python3.10/dist-packages (from pandas->lazypredict) (2.8.2)\n",
            "Requirement already satisfied: pytz>=2020.1 in /usr/local/lib/python3.10/dist-packages (from pandas->lazypredict) (2023.3.post1)\n",
            "Requirement already satisfied: threadpoolctl>=2.0.0 in /usr/local/lib/python3.10/dist-packages (from scikit-learn->lazypredict) (3.2.0)\n",
            "Requirement already satisfied: six>=1.5 in /usr/local/lib/python3.10/dist-packages (from python-dateutil>=2.8.1->pandas->lazypredict) (1.16.0)\n"
          ]
        },
        {
          "output_type": "stream",
          "name": "stderr",
          "text": [
            "100%|██████████| 42/42 [00:03<00:00, 12.62it/s]"
          ]
        },
        {
          "output_type": "stream",
          "name": "stdout",
          "text": [
            "[LightGBM] [Info] Auto-choosing col-wise multi-threading, the overhead of testing was 0.000077 seconds.\n",
            "You can set `force_col_wise=true` to remove the overhead.\n",
            "[LightGBM] [Info] Total Bins 51\n",
            "[LightGBM] [Info] Number of data points in the train set: 833, number of used features: 2\n",
            "[LightGBM] [Info] Start training from score -0.018053\n",
            "[LightGBM] [Warning] No further splits with positive gain, best gain: -inf\n",
            "[LightGBM] [Warning] No further splits with positive gain, best gain: -inf\n",
            "[LightGBM] [Warning] No further splits with positive gain, best gain: -inf\n",
            "[LightGBM] [Warning] No further splits with positive gain, best gain: -inf\n",
            "[LightGBM] [Warning] No further splits with positive gain, best gain: -inf\n",
            "[LightGBM] [Warning] No further splits with positive gain, best gain: -inf\n",
            "[LightGBM] [Warning] No further splits with positive gain, best gain: -inf\n",
            "[LightGBM] [Warning] No further splits with positive gain, best gain: -inf\n",
            "[LightGBM] [Warning] No further splits with positive gain, best gain: -inf\n",
            "[LightGBM] [Warning] No further splits with positive gain, best gain: -inf\n",
            "[LightGBM] [Warning] No further splits with positive gain, best gain: -inf\n",
            "[LightGBM] [Warning] No further splits with positive gain, best gain: -inf\n",
            "[LightGBM] [Warning] No further splits with positive gain, best gain: -inf\n",
            "[LightGBM] [Warning] No further splits with positive gain, best gain: -inf\n",
            "[LightGBM] [Warning] No further splits with positive gain, best gain: -inf\n",
            "[LightGBM] [Warning] No further splits with positive gain, best gain: -inf\n",
            "[LightGBM] [Warning] No further splits with positive gain, best gain: -inf\n",
            "[LightGBM] [Warning] No further splits with positive gain, best gain: -inf\n",
            "[LightGBM] [Warning] No further splits with positive gain, best gain: -inf\n",
            "[LightGBM] [Warning] No further splits with positive gain, best gain: -inf\n",
            "[LightGBM] [Warning] No further splits with positive gain, best gain: -inf\n",
            "[LightGBM] [Warning] No further splits with positive gain, best gain: -inf\n",
            "[LightGBM] [Warning] No further splits with positive gain, best gain: -inf\n",
            "[LightGBM] [Warning] No further splits with positive gain, best gain: -inf\n",
            "[LightGBM] [Warning] No further splits with positive gain, best gain: -inf\n",
            "[LightGBM] [Warning] No further splits with positive gain, best gain: -inf\n",
            "[LightGBM] [Warning] No further splits with positive gain, best gain: -inf\n",
            "[LightGBM] [Warning] No further splits with positive gain, best gain: -inf\n",
            "[LightGBM] [Warning] No further splits with positive gain, best gain: -inf\n",
            "[LightGBM] [Warning] No further splits with positive gain, best gain: -inf\n",
            "[LightGBM] [Warning] No further splits with positive gain, best gain: -inf\n",
            "[LightGBM] [Warning] No further splits with positive gain, best gain: -inf\n",
            "[LightGBM] [Warning] No further splits with positive gain, best gain: -inf\n",
            "[LightGBM] [Warning] No further splits with positive gain, best gain: -inf\n",
            "[LightGBM] [Warning] No further splits with positive gain, best gain: -inf\n",
            "[LightGBM] [Warning] No further splits with positive gain, best gain: -inf\n",
            "[LightGBM] [Warning] No further splits with positive gain, best gain: -inf\n",
            "[LightGBM] [Warning] No further splits with positive gain, best gain: -inf\n",
            "[LightGBM] [Warning] No further splits with positive gain, best gain: -inf\n",
            "[LightGBM] [Warning] No further splits with positive gain, best gain: -inf\n",
            "[LightGBM] [Warning] No further splits with positive gain, best gain: -inf\n",
            "[LightGBM] [Warning] No further splits with positive gain, best gain: -inf\n",
            "[LightGBM] [Warning] No further splits with positive gain, best gain: -inf\n",
            "[LightGBM] [Warning] No further splits with positive gain, best gain: -inf\n",
            "[LightGBM] [Warning] No further splits with positive gain, best gain: -inf\n",
            "[LightGBM] [Warning] No further splits with positive gain, best gain: -inf\n",
            "[LightGBM] [Warning] No further splits with positive gain, best gain: -inf\n",
            "[LightGBM] [Warning] No further splits with positive gain, best gain: -inf\n",
            "[LightGBM] [Warning] No further splits with positive gain, best gain: -inf\n",
            "[LightGBM] [Warning] No further splits with positive gain, best gain: -inf\n",
            "[LightGBM] [Warning] No further splits with positive gain, best gain: -inf\n",
            "[LightGBM] [Warning] No further splits with positive gain, best gain: -inf\n",
            "[LightGBM] [Warning] No further splits with positive gain, best gain: -inf\n",
            "[LightGBM] [Warning] No further splits with positive gain, best gain: -inf\n",
            "[LightGBM] [Warning] No further splits with positive gain, best gain: -inf\n",
            "[LightGBM] [Warning] No further splits with positive gain, best gain: -inf\n",
            "[LightGBM] [Warning] No further splits with positive gain, best gain: -inf\n",
            "[LightGBM] [Warning] No further splits with positive gain, best gain: -inf\n",
            "[LightGBM] [Warning] No further splits with positive gain, best gain: -inf\n",
            "[LightGBM] [Warning] No further splits with positive gain, best gain: -inf\n",
            "[LightGBM] [Warning] No further splits with positive gain, best gain: -inf\n",
            "[LightGBM] [Warning] No further splits with positive gain, best gain: -inf\n",
            "[LightGBM] [Warning] No further splits with positive gain, best gain: -inf\n",
            "[LightGBM] [Warning] No further splits with positive gain, best gain: -inf\n",
            "[LightGBM] [Warning] No further splits with positive gain, best gain: -inf\n",
            "[LightGBM] [Warning] No further splits with positive gain, best gain: -inf\n",
            "[LightGBM] [Warning] No further splits with positive gain, best gain: -inf\n",
            "[LightGBM] [Warning] No further splits with positive gain, best gain: -inf\n",
            "[LightGBM] [Warning] No further splits with positive gain, best gain: -inf\n",
            "[LightGBM] [Warning] No further splits with positive gain, best gain: -inf\n",
            "[LightGBM] [Warning] No further splits with positive gain, best gain: -inf\n",
            "[LightGBM] [Warning] No further splits with positive gain, best gain: -inf\n",
            "[LightGBM] [Warning] No further splits with positive gain, best gain: -inf\n",
            "[LightGBM] [Warning] No further splits with positive gain, best gain: -inf\n",
            "[LightGBM] [Warning] No further splits with positive gain, best gain: -inf\n",
            "[LightGBM] [Warning] No further splits with positive gain, best gain: -inf\n",
            "[LightGBM] [Warning] No further splits with positive gain, best gain: -inf\n",
            "[LightGBM] [Warning] No further splits with positive gain, best gain: -inf\n",
            "[LightGBM] [Warning] No further splits with positive gain, best gain: -inf\n",
            "[LightGBM] [Warning] No further splits with positive gain, best gain: -inf\n",
            "[LightGBM] [Warning] No further splits with positive gain, best gain: -inf\n",
            "[LightGBM] [Warning] No further splits with positive gain, best gain: -inf\n",
            "[LightGBM] [Warning] No further splits with positive gain, best gain: -inf\n",
            "[LightGBM] [Warning] No further splits with positive gain, best gain: -inf\n",
            "[LightGBM] [Warning] No further splits with positive gain, best gain: -inf\n",
            "[LightGBM] [Warning] No further splits with positive gain, best gain: -inf\n",
            "[LightGBM] [Warning] No further splits with positive gain, best gain: -inf\n",
            "[LightGBM] [Warning] No further splits with positive gain, best gain: -inf\n",
            "[LightGBM] [Warning] No further splits with positive gain, best gain: -inf\n",
            "[LightGBM] [Warning] No further splits with positive gain, best gain: -inf\n",
            "[LightGBM] [Warning] No further splits with positive gain, best gain: -inf\n",
            "[LightGBM] [Warning] No further splits with positive gain, best gain: -inf\n",
            "[LightGBM] [Warning] No further splits with positive gain, best gain: -inf\n",
            "[LightGBM] [Warning] No further splits with positive gain, best gain: -inf\n",
            "[LightGBM] [Warning] No further splits with positive gain, best gain: -inf\n",
            "[LightGBM] [Warning] No further splits with positive gain, best gain: -inf\n",
            "[LightGBM] [Warning] No further splits with positive gain, best gain: -inf\n",
            "[LightGBM] [Warning] No further splits with positive gain, best gain: -inf\n",
            "[LightGBM] [Warning] No further splits with positive gain, best gain: -inf\n",
            "[LightGBM] [Warning] No further splits with positive gain, best gain: -inf\n",
            "                               Adjusted R-Squared  R-Squared  RMSE  Time Taken\n",
            "Model                                                                         \n",
            "ElasticNetCV                                 0.54       0.54  0.66        0.07\n",
            "BayesianRidge                                0.54       0.54  0.66        0.01\n",
            "Ridge                                        0.54       0.54  0.66        0.02\n",
            "RidgeCV                                      0.54       0.54  0.66        0.02\n",
            "MLPRegressor                                 0.54       0.54  0.66        0.83\n",
            "LassoCV                                      0.54       0.54  0.66        0.10\n",
            "LinearRegression                             0.54       0.54  0.66        0.02\n",
            "TransformedTargetRegressor                   0.54       0.54  0.66        0.02\n",
            "LarsCV                                       0.54       0.54  0.66        0.05\n",
            "LassoLarsCV                                  0.54       0.54  0.66        0.02\n",
            "LassoLarsIC                                  0.54       0.54  0.66        0.02\n",
            "Lars                                         0.54       0.54  0.66        0.04\n",
            "OrthogonalMatchingPursuitCV                  0.54       0.54  0.66        0.02\n",
            "KernelRidge                                  0.54       0.54  0.66        0.11\n",
            "SGDRegressor                                 0.54       0.54  0.66        0.02\n",
            "GradientBoostingRegressor                    0.53       0.54  0.66        0.15\n",
            "SVR                                          0.53       0.53  0.67        0.06\n",
            "NuSVR                                        0.53       0.53  0.67        0.16\n",
            "LGBMRegressor                                0.53       0.53  0.67        0.12\n",
            "GaussianProcessRegressor                     0.53       0.53  0.67        0.12\n",
            "HistGradientBoostingRegressor                0.52       0.53  0.67        0.47\n",
            "RandomForestRegressor                        0.52       0.53  0.67        0.26\n",
            "DecisionTreeRegressor                        0.52       0.53  0.67        0.01\n",
            "BaggingRegressor                             0.52       0.53  0.67        0.04\n",
            "HuberRegressor                               0.52       0.52  0.67        0.03\n",
            "LinearSVR                                    0.52       0.52  0.68        0.02\n",
            "RANSACRegressor                              0.52       0.52  0.68        0.03\n",
            "ExtraTreesRegressor                          0.51       0.52  0.68        0.12\n",
            "XGBRegressor                                 0.50       0.50  0.69        0.12\n",
            "ExtraTreeRegressor                           0.49       0.49  0.69        0.01\n",
            "KNeighborsRegressor                          0.47       0.47  0.71        0.02\n",
            "AdaBoostRegressor                            0.45       0.46  0.72        0.03\n",
            "TweedieRegressor                             0.43       0.43  0.73        0.03\n",
            "OrthogonalMatchingPursuit                    0.26       0.26  0.84        0.02\n",
            "ElasticNet                                   0.08       0.09  0.93        0.01\n",
            "Lasso                                       -0.01      -0.00  0.98        0.02\n",
            "DummyRegressor                              -0.01      -0.00  0.98        0.01\n",
            "LassoLars                                   -0.01      -0.00  0.98        0.02\n",
            "PassiveAggressiveRegressor                  -0.66      -0.65  1.25        0.02\n"
          ]
        },
        {
          "output_type": "stream",
          "name": "stderr",
          "text": [
            "\n"
          ]
        }
      ],
      "source": [
        "# Install library lazypredict\n",
        "!pip install lazypredict\n",
        "\n",
        "# Import LazyRegressor\n",
        "from lazypredict.Supervised import LazyRegressor\n",
        "from sklearn.model_selection import train_test_split\n",
        "\n",
        "# Inisialisasi LazyRegressor\n",
        "reg = LazyRegressor()\n",
        "models, predictions = reg.fit(X_train, X_test, y_train, y_test)\n",
        "\n",
        "# Tampilkan hasil\n",
        "print(models)"
      ],
      "id": "mus8c8yBnylF"
    },
    {
      "cell_type": "markdown",
      "source": [
        "# Modelling & Evaluasi Model"
      ],
      "metadata": {
        "id": "EoGzp5WYGe4X"
      },
      "id": "EoGzp5WYGe4X"
    },
    {
      "cell_type": "code",
      "execution_count": null,
      "metadata": {
        "id": "egAfbBUP0s9Z",
        "colab": {
          "base_uri": "https://localhost:8080/"
        },
        "outputId": "f6f8d8df-76cf-4969-b6fb-60dd4cdd5318"
      },
      "outputs": [
        {
          "output_type": "stream",
          "name": "stdout",
          "text": [
            "Linear Regression Evaluation:\n",
            "R-squared: 0.5410\n",
            "Mean Squared Error: 0.4363\n",
            "Root Mean Squared Error: 0.6606\n",
            "Mean Absolute Error: 0.3823\n",
            "Mean Absolute Percentage Error: 1.4477%\n",
            "\n",
            "\n",
            "Random Forest Regressor Evaluation:\n",
            "R-squared: 0.5252\n",
            "Mean Squared Error: 0.4514\n",
            "Root Mean Squared Error: 0.6718\n",
            "Mean Absolute Error: 0.3887\n",
            "Mean Absolute Percentage Error: 1.3896%\n",
            "\n",
            "\n",
            "SVR Evaluation:\n",
            "R-squared: 0.5324\n",
            "Mean Squared Error: 0.4446\n",
            "Root Mean Squared Error: 0.6668\n",
            "Mean Absolute Error: 0.2934\n",
            "Mean Absolute Percentage Error: 0.7280%\n",
            "\n",
            "\n",
            "Gradient Boosting Regressor Evaluation:\n",
            "R-squared: 0.5364\n",
            "Mean Squared Error: 0.4407\n",
            "Root Mean Squared Error: 0.6639\n",
            "Mean Absolute Error: 0.3791\n",
            "Mean Absolute Percentage Error: 1.4452%\n",
            "\n",
            "\n",
            "MLP Regressor Evaluation:\n",
            "R-squared: 0.5421\n",
            "Mean Squared Error: 0.4353\n",
            "Root Mean Squared Error: 0.6598\n",
            "Mean Absolute Error: 0.3691\n",
            "Mean Absolute Percentage Error: 1.5919%\n",
            "\n",
            "\n",
            "Bayesian Ridge Regressor Evaluation:\n",
            "R-squared: 0.5413\n",
            "Mean Squared Error: 0.4361\n",
            "Root Mean Squared Error: 0.6604\n",
            "Mean Absolute Error: 0.3822\n",
            "Mean Absolute Percentage Error: 1.4458%\n",
            "\n",
            "\n"
          ]
        }
      ],
      "source": [
        "# Import library\n",
        "from sklearn.linear_model import LinearRegression\n",
        "from sklearn.ensemble import RandomForestRegressor, GradientBoostingRegressor\n",
        "from sklearn.svm import SVR\n",
        "from sklearn.neural_network import MLPRegressor\n",
        "from sklearn.linear_model import BayesianRidge\n",
        "from sklearn.metrics import r2_score, mean_squared_error, mean_absolute_error\n",
        "from sklearn.metrics import mean_absolute_percentage_error\n",
        "\n",
        "# Membuat Linear Regression\n",
        "lr_model = LinearRegression()\n",
        "lr_model.fit(X_train, y_train)\n",
        "lr_pred = lr_model.predict(X_test)\n",
        "\n",
        "# Membuat Random Forest Regressor\n",
        "rf_model = RandomForestRegressor()\n",
        "rf_model.fit(X_train, y_train)\n",
        "rf_pred = rf_model.predict(X_test)\n",
        "\n",
        "# Membuat model SVR\n",
        "svr_model = SVR()\n",
        "svr_model.fit(X_train, y_train)\n",
        "svr_pred = svr_model.predict(X_test)\n",
        "\n",
        "# Membuat model Gradient Boosting Regressor\n",
        "gb_model = GradientBoostingRegressor()\n",
        "gb_model.fit(X_train, y_train)\n",
        "gb_pred = gb_model.predict(X_test)\n",
        "\n",
        "# MLP Regressor\n",
        "mlp_model = MLPRegressor()\n",
        "mlp_model.fit(X_train, y_train)\n",
        "mlp_pred = mlp_model.predict(X_test)\n",
        "\n",
        "# Bayesian Ridge Regression\n",
        "br_model = BayesianRidge()\n",
        "br_model.fit(X_train, y_train)\n",
        "br_pred = br_model.predict(X_test)\n",
        "\n",
        "# Melakuakan Evaluasi model\n",
        "def evaluate_model(name, y_true, y_pred):\n",
        "    r2 = r2_score(y_true, y_pred)\n",
        "    mse = mean_squared_error(y_true, y_pred)\n",
        "    rmse = np.sqrt(mse)\n",
        "    mae = mean_absolute_error(y_true, y_pred)\n",
        "    mape = mean_absolute_percentage_error(y_true, y_pred)\n",
        "\n",
        "    print(f\"{name} Evaluation:\")\n",
        "    print(f\"R-squared: {r2:.4f}\")\n",
        "    print(f\"Mean Squared Error: {mse:.4f}\")\n",
        "    print(f\"Root Mean Squared Error: {rmse:.4f}\")\n",
        "    print(f\"Mean Absolute Error: {mae:.4f}\")\n",
        "    print(f\"Mean Absolute Percentage Error: {mape:.4f}%\")\n",
        "    print(\"\\n\")\n",
        "\n",
        "evaluate_model(\"Linear Regression\", y_test, lr_pred)\n",
        "evaluate_model(\"Random Forest Regressor\", y_test, rf_pred)\n",
        "evaluate_model(\"SVR\", y_test, svr_pred)\n",
        "evaluate_model(\"Gradient Boosting Regressor\", y_test, gb_pred)\n",
        "evaluate_model(\"MLP Regressor\", y_test, mlp_pred)\n",
        "evaluate_model(\"Bayesian Ridge Regressor\", y_test, br_pred)"
      ],
      "id": "egAfbBUP0s9Z"
    },
    {
      "cell_type": "markdown",
      "source": [
        "Model MLP Regressor merupakan model yang lebih baik dari model lainnya berdasarkan hasil metriks evaluasi model. Maka kita akan menggunakan model MLP Regressor untuk mencoba test data dengan input data secara manual dan menampilkan hasil prediksinya."
      ],
      "metadata": {
        "id": "IngZuakxtVmK"
      },
      "id": "IngZuakxtVmK"
    },
    {
      "cell_type": "markdown",
      "source": [
        "# Uji Hipotesis dengan Z-Score"
      ],
      "metadata": {
        "id": "jhODJ6Y5TH6f"
      },
      "id": "jhODJ6Y5TH6f"
    },
    {
      "cell_type": "code",
      "source": [
        "from scipy import stats\n",
        "\n",
        "# Ambil bobot dan bias dari lapisan pertama\n",
        "age_coef = mlp_model.coefs_[1][0]\n",
        "smoker_coef = mlp_model.coefs_[1][1]\n",
        "\n",
        "# Hitung nilai z-score untuk koefisien regresi Age\n",
        "age_zscore = age_coef / mlp_model.loss_\n",
        "\n",
        "# Hitung nilai z-score untuk koefisien regresi Smoker\n",
        "smoker_zscore = smoker_coef / mlp_model.loss_\n",
        "\n",
        "# Bandingkan dengan nilai critical z, misalnya, 1.96 untuk alpha 5%\n",
        "alpha = 0.05\n",
        "critical_value = stats.norm.ppf(1 - alpha / 2)\n",
        "\n",
        "# Uji hipotesis nol\n",
        "age_hypothesis = abs(age_zscore) > critical_value\n",
        "smoker_hypothesis = abs(smoker_zscore) > critical_value\n",
        "\n",
        "print(\"Uji Hipotesis Variabel Age:\", age_hypothesis)\n",
        "print(\"Uji Hipotesis Variabel Smoker:\", smoker_hypothesis)"
      ],
      "metadata": {
        "colab": {
          "base_uri": "https://localhost:8080/"
        },
        "id": "gFc2atfftGFp",
        "outputId": "17842d90-bd21-4c2a-dd92-7b046ccf6bb1"
      },
      "id": "gFc2atfftGFp",
      "execution_count": null,
      "outputs": [
        {
          "output_type": "stream",
          "name": "stdout",
          "text": [
            "Uji Hipotesis Variabel Age: [False]\n",
            "Uji Hipotesis Variabel Smoker: [False]\n"
          ]
        }
      ]
    },
    {
      "cell_type": "markdown",
      "source": [
        "Dalam hasil output tersebut, [False] pada kedua uji hipotesis menunjukkan bahwa hipotesis nol tidak dapat ditolak untuk variabel Age dan Smoker.\n",
        "\n",
        "1. Variabel Age:\n",
        "\n",
        "False pada \"Uji Hipotesis Variabel Age\" menunjukkan bahwa nilai z-score untuk koefisien regresi Age tidak melebihi nilai kritis z pada tingkat signifikansi yang dipilih (biasanya 0.05). Oleh karena itu, tidak cukup bukti untuk menyatakan bahwa variabel Age memiliki efek yang signifikan terhadap variabel target dalam model MLP Regressor.\n",
        "\n",
        "2. Variabel Smoker:\n",
        "\n",
        "False pada \"Uji Hipotesis Variabel Smoker\" menunjukkan bahwa nilai z-score untuk koefisien regresi Smoker juga tidak melebihi nilai kritis z pada tingkat signifikansi yang dipilih. Oleh karena itu, tidak cukup bukti untuk menyatakan bahwa variabel Smoker memiliki efek yang signifikan terhadap variabel target dalam model.\n",
        "\n",
        "Hasil ini dapat diartikan bahwa, berdasarkan analisis uji hipotesis, tidak ada indikasi bahwa variabel Age atau Smoker secara signifikan mempengaruhi variabel target (Charges) dalam model MLP Regressor pada tingkat signifikansi tertentu yang telah dipilih (dalam hal ini, tingkat signifikansi 0.05)."
      ],
      "metadata": {
        "id": "fqXgdIpmSeJz"
      },
      "id": "fqXgdIpmSeJz"
    },
    {
      "cell_type": "markdown",
      "source": [
        "# Testing Model"
      ],
      "metadata": {
        "id": "pSZ5t4_6Gv2E"
      },
      "id": "pSZ5t4_6Gv2E"
    },
    {
      "cell_type": "code",
      "execution_count": null,
      "metadata": {
        "id": "n-F1pcWM6hJ8",
        "colab": {
          "base_uri": "https://localhost:8080/"
        },
        "outputId": "12e9ed18-ad34-43ad-eddd-c176fd00df08"
      },
      "outputs": [
        {
          "output_type": "execute_result",
          "data": {
            "text/plain": [
              "['mlp_regressor_model.pkl']"
            ]
          },
          "metadata": {},
          "execution_count": 340
        }
      ],
      "source": [
        "import joblib\n",
        "\n",
        "# Simpan model ke file\n",
        "joblib.dump(mlp_model, 'mlp_regressor_model.pkl')"
      ],
      "id": "n-F1pcWM6hJ8"
    },
    {
      "cell_type": "markdown",
      "source": [
        "Simpan model MLP Regressor dengan menggunakan library joblib"
      ],
      "metadata": {
        "id": "Ml6w6meUt1Mn"
      },
      "id": "Ml6w6meUt1Mn"
    },
    {
      "cell_type": "code",
      "execution_count": null,
      "metadata": {
        "id": "3w47JGnp-XPE",
        "colab": {
          "base_uri": "https://localhost:8080/"
        },
        "outputId": "b15e1229-3296-4e5b-9cab-801bd94eb469"
      },
      "outputs": [
        {
          "output_type": "stream",
          "name": "stdout",
          "text": [
            "Prediction: [12.72445055]\n"
          ]
        }
      ],
      "source": [
        "# Load model mlp regressor yang disimpan\n",
        "loaded_model = joblib.load('mlp_regressor_model.pkl')\n",
        "\n",
        "# Replace value dengan data kita\n",
        "age = 28 # Umur\n",
        "status_smoker = 1 # status smoker (0 itu tidak perokok dan 1 adalah perokok)\n",
        "new_data = np.array([[age, status_smoker]])\n",
        "\n",
        "# Melakukan prediksi\n",
        "prediction = loaded_model.predict(new_data)\n",
        "\n",
        "# Menampilkan hasil prediksi\n",
        "print(\"Prediction:\", prediction)"
      ],
      "id": "3w47JGnp-XPE"
    },
    {
      "cell_type": "markdown",
      "source": [
        "# Saran dan Rekomendasi"
      ],
      "metadata": {
        "id": "TqdOSIUdvFQc"
      },
      "id": "TqdOSIUdvFQc"
    },
    {
      "cell_type": "markdown",
      "source": [
        "Saran dan rekomendasi terkait hasil prediksi asuransi kesehatan dapat membantu perusahaan untuk meningkatkan strategi bisnis mereka. Berikut adalah beberapa saran yang dapat dipertimbangkan:\n",
        "\n",
        "- **Pricing Strategy** :\n",
        "Sesuaikan strategi penetapan harga (pricing) untuk produk asuransi kesehatan berdasarkan temuan bahwa charges meningkat seiring dengan bertambahnya usia dan perokok memiliki charges yang lebih tinggi. Ini bisa mencakup menetapkan premi yang lebih tinggi untuk kelompok usia yang lebih tua dan perokok.\n",
        "\n",
        "- **Segmentasi Pelanggan** :\n",
        "Lakukan segmentasi pelanggan berdasarkan informasi umur dan status perokok. Kenali dan pahami profil pelanggan yang berbeda untuk dapat menawarkan produk asuransi kesehatan yang lebih sesuai dengan kebutuhan dan kemampuan membayar masing-masing segmen.\n",
        "\n",
        "- **Campaign** :\n",
        "Jalankan campaign atau penjualan khusus untuk kelompok yang diidentifikasi sebagai berisiko tinggi, seperti perokok atau kelompok usia tertentu. Tawarkan insentif atau manfaat tambahan untuk menarik perhatian pelanggan dalam segmen ini.\n",
        "\n",
        "- **Edukasi dan Pencegahan** :\n",
        "Tingkatkan upaya edukasi dan promosi pencegahan kesehatan, terutama kepada pelanggan yang termasuk dalam kelompok berisiko tinggi. Pencegahan dapat membantu mengurangi klaim dan charges di masa depan.\n",
        "\n",
        "- **Penilaian Risiko Lebih Lanjut** :\n",
        "Lakukan analisis lebih lanjut untuk mengevaluasi faktor-faktor risiko lainnya yang mungkin mempengaruhi charges. Hal ini dapat mencakup variabel tambahan seperti riwayat medis atau gaya hidup. Mengetahui faktor-faktor ini dapat meningkatkan akurasi model Anda.\n",
        "\n",
        "- **Personalisasi Produk** :\n",
        "Tingkatkan personalisasi produk asuransi kesehatan. Berdasarkan informasi umur dan status perokok, Anda dapat menyusun paket-paket asuransi yang lebih sesuai dengan kebutuhan dan profil risiko masing-masing pelanggan."
      ],
      "metadata": {
        "id": "tWzFe5ehvM_x"
      },
      "id": "tWzFe5ehvM_x"
    }
  ],
  "metadata": {
    "colab": {
      "provenance": []
    },
    "kernelspec": {
      "display_name": "Python 3 (ipykernel)",
      "language": "python",
      "name": "python3"
    },
    "language_info": {
      "codemirror_mode": {
        "name": "ipython",
        "version": 3
      },
      "file_extension": ".py",
      "mimetype": "text/x-python",
      "name": "python",
      "nbconvert_exporter": "python",
      "pygments_lexer": "ipython3",
      "version": "3.9.7"
    }
  },
  "nbformat": 4,
  "nbformat_minor": 5
}